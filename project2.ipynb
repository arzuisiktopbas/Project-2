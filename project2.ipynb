{
 "cells": [
  {
   "cell_type": "code",
   "execution_count": 5,
   "metadata": {},
   "outputs": [],
   "source": [
    "# Initial imports\n",
    "import os\n",
    "import pandas as pd\n",
    "from dotenv import load_dotenv\n",
    "from nltk.sentiment.vader import SentimentIntensityAnalyzer\n",
    "analyzer = SentimentIntensityAnalyzer()\n",
    "from newsapi import NewsApiClient\n",
    "from finvizfinance.screener.overview import Overview\n",
    "import alpaca_trade_api as tradeapi\n",
    "import datetime\n",
    "import pandas as pd\n",
    "import numpy as np\n",
    "import statsmodels.api as sm\n",
    "from statsmodels.tsa.arima_model import ARIMA\n",
    "import arch\n",
    "import math\n",
    "from sklearn.linear_model import LinearRegression\n",
    "from sklearn.metrics import mean_squared_error\n",
    "%matplotlib inline\n",
    "import warnings\n",
    "warnings.filterwarnings('ignore')\n"
   ]
  },
  {
   "cell_type": "code",
   "execution_count": 8,
   "metadata": {},
   "outputs": [],
   "source": [
    "# Read your api key environment variable\n",
    "from dotenv import load_dotenv\n",
    "load_dotenv()\n",
    "api_key = os.getenv(\"news_api\")"
   ]
  },
  {
   "cell_type": "code",
   "execution_count": 10,
   "metadata": {},
   "outputs": [],
   "source": [
    "# Create a newsapi client\n",
    "from newsapi import NewsApiClient\n",
    "newsapi = NewsApiClient(api_key=os.environ[\"news_api\"])"
   ]
  },
  {
   "cell_type": "code",
   "execution_count": 11,
   "metadata": {},
   "outputs": [
    {
     "name": "stdout",
     "output_type": "stream",
     "text": [
      "[Info] loading page [##############################] 4/4 \r"
     ]
    },
    {
     "data": {
      "text/html": [
       "<div>\n",
       "<style scoped>\n",
       "    .dataframe tbody tr th:only-of-type {\n",
       "        vertical-align: middle;\n",
       "    }\n",
       "\n",
       "    .dataframe tbody tr th {\n",
       "        vertical-align: top;\n",
       "    }\n",
       "\n",
       "    .dataframe thead th {\n",
       "        text-align: right;\n",
       "    }\n",
       "</style>\n",
       "<table border=\"1\" class=\"dataframe\">\n",
       "  <thead>\n",
       "    <tr style=\"text-align: right;\">\n",
       "      <th></th>\n",
       "      <th>Company</th>\n",
       "      <th>Sector</th>\n",
       "      <th>Industry</th>\n",
       "      <th>Country</th>\n",
       "      <th>Market Cap</th>\n",
       "      <th>P/E</th>\n",
       "      <th>Price</th>\n",
       "      <th>Change</th>\n",
       "      <th>Volume</th>\n",
       "    </tr>\n",
       "    <tr>\n",
       "      <th>Ticker</th>\n",
       "      <th></th>\n",
       "      <th></th>\n",
       "      <th></th>\n",
       "      <th></th>\n",
       "      <th></th>\n",
       "      <th></th>\n",
       "      <th></th>\n",
       "      <th></th>\n",
       "      <th></th>\n",
       "    </tr>\n",
       "  </thead>\n",
       "  <tbody>\n",
       "    <tr>\n",
       "      <th>AA</th>\n",
       "      <td>Alcoa Corporation</td>\n",
       "      <td>Basic Materials</td>\n",
       "      <td>Aluminum</td>\n",
       "      <td>USA</td>\n",
       "      <td>4.250000e+09</td>\n",
       "      <td>None</td>\n",
       "      <td>23.13</td>\n",
       "      <td>0.0952</td>\n",
       "      <td>7212741.0</td>\n",
       "    </tr>\n",
       "    <tr>\n",
       "      <th>AAL</th>\n",
       "      <td>American Airlines Group Inc.</td>\n",
       "      <td>Industrials</td>\n",
       "      <td>Airlines</td>\n",
       "      <td>USA</td>\n",
       "      <td>1.142000e+10</td>\n",
       "      <td>None</td>\n",
       "      <td>18.68</td>\n",
       "      <td>0.0548</td>\n",
       "      <td>47576082.0</td>\n",
       "    </tr>\n",
       "    <tr>\n",
       "      <th>AEZS</th>\n",
       "      <td>Aeterna Zentaris Inc.</td>\n",
       "      <td>Healthcare</td>\n",
       "      <td>Biotechnology</td>\n",
       "      <td>USA</td>\n",
       "      <td>9.223000e+07</td>\n",
       "      <td>None</td>\n",
       "      <td>1.48</td>\n",
       "      <td>0.0571</td>\n",
       "      <td>13560255.0</td>\n",
       "    </tr>\n",
       "    <tr>\n",
       "      <th>AHT</th>\n",
       "      <td>Ashford Hospitality Trust, Inc.</td>\n",
       "      <td>Real Estate</td>\n",
       "      <td>REIT - Hotel &amp; Motel</td>\n",
       "      <td>USA</td>\n",
       "      <td>2.416200e+08</td>\n",
       "      <td>None</td>\n",
       "      <td>3.76</td>\n",
       "      <td>0.0867</td>\n",
       "      <td>15717857.0</td>\n",
       "    </tr>\n",
       "    <tr>\n",
       "      <th>AIKI</th>\n",
       "      <td>AIkido Pharma Inc.</td>\n",
       "      <td>Healthcare</td>\n",
       "      <td>Biotechnology</td>\n",
       "      <td>USA</td>\n",
       "      <td>4.598000e+07</td>\n",
       "      <td>None</td>\n",
       "      <td>1.62</td>\n",
       "      <td>0.0519</td>\n",
       "      <td>42328806.0</td>\n",
       "    </tr>\n",
       "    <tr>\n",
       "      <th>...</th>\n",
       "      <td>...</td>\n",
       "      <td>...</td>\n",
       "      <td>...</td>\n",
       "      <td>...</td>\n",
       "      <td>...</td>\n",
       "      <td>...</td>\n",
       "      <td>...</td>\n",
       "      <td>...</td>\n",
       "      <td>...</td>\n",
       "    </tr>\n",
       "    <tr>\n",
       "      <th>VTGN</th>\n",
       "      <td>VistaGen Therapeutics, Inc.</td>\n",
       "      <td>Healthcare</td>\n",
       "      <td>Biotechnology</td>\n",
       "      <td>USA</td>\n",
       "      <td>4.250900e+08</td>\n",
       "      <td>None</td>\n",
       "      <td>2.96</td>\n",
       "      <td>0.1935</td>\n",
       "      <td>19624977.0</td>\n",
       "    </tr>\n",
       "    <tr>\n",
       "      <th>WATT</th>\n",
       "      <td>Energous Corporation</td>\n",
       "      <td>Technology</td>\n",
       "      <td>Scientific &amp; Technical Instruments</td>\n",
       "      <td>USA</td>\n",
       "      <td>3.146500e+08</td>\n",
       "      <td>None</td>\n",
       "      <td>7.23</td>\n",
       "      <td>0.9435</td>\n",
       "      <td>176508809.0</td>\n",
       "    </tr>\n",
       "    <tr>\n",
       "      <th>WKHS</th>\n",
       "      <td>Workhorse Group Inc.</td>\n",
       "      <td>Consumer Cyclical</td>\n",
       "      <td>Auto Manufacturers</td>\n",
       "      <td>USA</td>\n",
       "      <td>4.110000e+09</td>\n",
       "      <td>None</td>\n",
       "      <td>32.96</td>\n",
       "      <td>0.0557</td>\n",
       "      <td>9563070.0</td>\n",
       "    </tr>\n",
       "    <tr>\n",
       "      <th>WWR</th>\n",
       "      <td>Westwater Resources, Inc.</td>\n",
       "      <td>Basic Materials</td>\n",
       "      <td>Other Industrial Metals &amp; Mining</td>\n",
       "      <td>USA</td>\n",
       "      <td>1.500000e+08</td>\n",
       "      <td>None</td>\n",
       "      <td>7.78</td>\n",
       "      <td>0.0791</td>\n",
       "      <td>10849052.0</td>\n",
       "    </tr>\n",
       "    <tr>\n",
       "      <th>X</th>\n",
       "      <td>United States Steel Corporation</td>\n",
       "      <td>Basic Materials</td>\n",
       "      <td>Steel</td>\n",
       "      <td>USA</td>\n",
       "      <td>4.860000e+09</td>\n",
       "      <td>None</td>\n",
       "      <td>17.90</td>\n",
       "      <td>0.0529</td>\n",
       "      <td>11881658.0</td>\n",
       "    </tr>\n",
       "  </tbody>\n",
       "</table>\n",
       "<p>66 rows × 9 columns</p>\n",
       "</div>"
      ],
      "text/plain": [
       "                                Company             Sector  \\\n",
       "Ticker                                                       \n",
       "AA                    Alcoa Corporation    Basic Materials   \n",
       "AAL        American Airlines Group Inc.        Industrials   \n",
       "AEZS              Aeterna Zentaris Inc.         Healthcare   \n",
       "AHT     Ashford Hospitality Trust, Inc.        Real Estate   \n",
       "AIKI                 AIkido Pharma Inc.         Healthcare   \n",
       "...                                 ...                ...   \n",
       "VTGN        VistaGen Therapeutics, Inc.         Healthcare   \n",
       "WATT               Energous Corporation         Technology   \n",
       "WKHS               Workhorse Group Inc.  Consumer Cyclical   \n",
       "WWR           Westwater Resources, Inc.    Basic Materials   \n",
       "X       United States Steel Corporation    Basic Materials   \n",
       "\n",
       "                                  Industry Country    Market Cap   P/E  Price  \\\n",
       "Ticker                                                                          \n",
       "AA                                Aluminum     USA  4.250000e+09  None  23.13   \n",
       "AAL                               Airlines     USA  1.142000e+10  None  18.68   \n",
       "AEZS                         Biotechnology     USA  9.223000e+07  None   1.48   \n",
       "AHT                   REIT - Hotel & Motel     USA  2.416200e+08  None   3.76   \n",
       "AIKI                         Biotechnology     USA  4.598000e+07  None   1.62   \n",
       "...                                    ...     ...           ...   ...    ...   \n",
       "VTGN                         Biotechnology     USA  4.250900e+08  None   2.96   \n",
       "WATT    Scientific & Technical Instruments     USA  3.146500e+08  None   7.23   \n",
       "WKHS                    Auto Manufacturers     USA  4.110000e+09  None  32.96   \n",
       "WWR       Other Industrial Metals & Mining     USA  1.500000e+08  None   7.78   \n",
       "X                                    Steel     USA  4.860000e+09  None  17.90   \n",
       "\n",
       "        Change       Volume  \n",
       "Ticker                       \n",
       "AA      0.0952    7212741.0  \n",
       "AAL     0.0548   47576082.0  \n",
       "AEZS    0.0571   13560255.0  \n",
       "AHT     0.0867   15717857.0  \n",
       "AIKI    0.0519   42328806.0  \n",
       "...        ...          ...  \n",
       "VTGN    0.1935   19624977.0  \n",
       "WATT    0.9435  176508809.0  \n",
       "WKHS    0.0557    9563070.0  \n",
       "WWR     0.0791   10849052.0  \n",
       "X       0.0529   11881658.0  \n",
       "\n",
       "[66 rows x 9 columns]"
      ]
     },
     "execution_count": 11,
     "metadata": {},
     "output_type": "execute_result"
    }
   ],
   "source": [
    "foverview = Overview()\n",
    "\n",
    "filters_dict = {\n",
    "    'Performance':'Today +5%',\n",
    "    'Current Volume':\"Over 5M\",\n",
    "    'Country': 'USA'\n",
    "}\n",
    "foverview.set_filter(filters_dict=filters_dict)\n",
    "\n",
    "tickers = foverview.ScreenerView()\n",
    "#tickers.sort_values(by='Volume', inplace=True, ascending=False)\n",
    "tickers.set_index('Ticker', inplace=True )\n",
    "tickers.head(100)"
   ]
  },
  {
   "cell_type": "code",
   "execution_count": 12,
   "metadata": {},
   "outputs": [],
   "source": [
    "def get_sentiment(company):\n",
    "    stock_headlines = ( newsapi.get_everything(\n",
    "    q=company,\n",
    "    language='en',\n",
    "    sort_by='relevancy'))\n",
    "\n",
    "    sentiments = []\n",
    "\n",
    "    for articles in stock_headlines['articles']:\n",
    "        try:\n",
    "            text = articles['content']\n",
    "            results = analyzer.polarity_scores(text)\n",
    "            compound = results['compound']\n",
    "            pos = results['pos']\n",
    "            neu = results['neu']\n",
    "            neg = results['neg'] \n",
    "\n",
    "            #put data into sentiments\n",
    "            sentiments.append({\n",
    "                'text':text,\n",
    "                'Compound':compound,\n",
    "                'Positive':pos,\n",
    "                'Negative':neg,\n",
    "                'Neutral':neu})\n",
    "\n",
    "        except AttributeError:\n",
    "            pass\n",
    "    fininal_sentiments = pd.DataFrame(sentiments)\n",
    "    if not fininal_sentiments.empty:\n",
    "        return(fininal_sentiments[\"Positive\"].mean())\n",
    "    else:\n",
    "        return(0)"
   ]
  },
  {
   "cell_type": "code",
   "execution_count": 13,
   "metadata": {},
   "outputs": [
    {
     "ename": "NewsAPIException",
     "evalue": "{'status': 'error', 'code': 'rateLimited', 'message': 'You have made too many requests recently. Developer accounts are limited to 100 requests over a 24 hour period (50 requests available every 12 hours). Please upgrade to a paid plan if you need more requests.'}",
     "output_type": "error",
     "traceback": [
      "\u001b[0;31m---------------------------------------------------------------------------\u001b[0m",
      "\u001b[0;31mNewsAPIException\u001b[0m                          Traceback (most recent call last)",
      "\u001b[0;32m<ipython-input-13-ddb467004c31>\u001b[0m in \u001b[0;36m<module>\u001b[0;34m\u001b[0m\n\u001b[1;32m      1\u001b[0m \u001b[0mticker_sentiment\u001b[0m \u001b[0;34m=\u001b[0m \u001b[0;34m[\u001b[0m\u001b[0;34m]\u001b[0m\u001b[0;34m\u001b[0m\u001b[0;34m\u001b[0m\u001b[0m\n\u001b[1;32m      2\u001b[0m \u001b[0;32mfor\u001b[0m \u001b[0mticker\u001b[0m \u001b[0;32min\u001b[0m \u001b[0mtickers\u001b[0m\u001b[0;34m.\u001b[0m\u001b[0mindex\u001b[0m\u001b[0;34m:\u001b[0m\u001b[0;34m\u001b[0m\u001b[0;34m\u001b[0m\u001b[0m\n\u001b[0;32m----> 3\u001b[0;31m     \u001b[0msentiment\u001b[0m \u001b[0;34m=\u001b[0m \u001b[0mget_sentiment\u001b[0m\u001b[0;34m(\u001b[0m\u001b[0mtickers\u001b[0m\u001b[0;34m[\u001b[0m\u001b[0;34m'Company'\u001b[0m\u001b[0;34m]\u001b[0m\u001b[0;34m[\u001b[0m\u001b[0mticker\u001b[0m\u001b[0;34m]\u001b[0m\u001b[0;34m)\u001b[0m\u001b[0;34m\u001b[0m\u001b[0;34m\u001b[0m\u001b[0m\n\u001b[0m\u001b[1;32m      4\u001b[0m     \u001b[0mprint\u001b[0m\u001b[0;34m(\u001b[0m\u001b[0msentiment\u001b[0m\u001b[0;34m)\u001b[0m\u001b[0;34m\u001b[0m\u001b[0;34m\u001b[0m\u001b[0m\n\u001b[1;32m      5\u001b[0m     \u001b[0;32mif\u001b[0m \u001b[0mfloat\u001b[0m\u001b[0;34m(\u001b[0m\u001b[0msentiment\u001b[0m\u001b[0;34m)\u001b[0m \u001b[0;34m>=\u001b[0m \u001b[0;36m0.1\u001b[0m\u001b[0;34m:\u001b[0m\u001b[0;34m\u001b[0m\u001b[0;34m\u001b[0m\u001b[0m\n",
      "\u001b[0;32m<ipython-input-12-dbf466fbf439>\u001b[0m in \u001b[0;36mget_sentiment\u001b[0;34m(company)\u001b[0m\n\u001b[1;32m      3\u001b[0m     \u001b[0mq\u001b[0m\u001b[0;34m=\u001b[0m\u001b[0mcompany\u001b[0m\u001b[0;34m,\u001b[0m\u001b[0;34m\u001b[0m\u001b[0;34m\u001b[0m\u001b[0m\n\u001b[1;32m      4\u001b[0m     \u001b[0mlanguage\u001b[0m\u001b[0;34m=\u001b[0m\u001b[0;34m'en'\u001b[0m\u001b[0;34m,\u001b[0m\u001b[0;34m\u001b[0m\u001b[0;34m\u001b[0m\u001b[0m\n\u001b[0;32m----> 5\u001b[0;31m     sort_by='relevancy'))\n\u001b[0m\u001b[1;32m      6\u001b[0m \u001b[0;34m\u001b[0m\u001b[0m\n\u001b[1;32m      7\u001b[0m     \u001b[0msentiments\u001b[0m \u001b[0;34m=\u001b[0m \u001b[0;34m[\u001b[0m\u001b[0;34m]\u001b[0m\u001b[0;34m\u001b[0m\u001b[0;34m\u001b[0m\u001b[0m\n",
      "\u001b[0;32m~/opt/anaconda3/envs/tensorenv/lib/python3.7/site-packages/newsapi/newsapi_client.py\u001b[0m in \u001b[0;36mget_everything\u001b[0;34m(self, q, qintitle, sources, domains, exclude_domains, from_param, to, language, sort_by, page, page_size)\u001b[0m\n\u001b[1;32m    324\u001b[0m         \u001b[0;31m# Check Status of Request\u001b[0m\u001b[0;34m\u001b[0m\u001b[0;34m\u001b[0m\u001b[0;34m\u001b[0m\u001b[0m\n\u001b[1;32m    325\u001b[0m         \u001b[0;32mif\u001b[0m \u001b[0mr\u001b[0m\u001b[0;34m.\u001b[0m\u001b[0mstatus_code\u001b[0m \u001b[0;34m!=\u001b[0m \u001b[0mrequests\u001b[0m\u001b[0;34m.\u001b[0m\u001b[0mcodes\u001b[0m\u001b[0;34m.\u001b[0m\u001b[0mok\u001b[0m\u001b[0;34m:\u001b[0m\u001b[0;34m\u001b[0m\u001b[0;34m\u001b[0m\u001b[0m\n\u001b[0;32m--> 326\u001b[0;31m             \u001b[0;32mraise\u001b[0m \u001b[0mNewsAPIException\u001b[0m\u001b[0;34m(\u001b[0m\u001b[0mr\u001b[0m\u001b[0;34m.\u001b[0m\u001b[0mjson\u001b[0m\u001b[0;34m(\u001b[0m\u001b[0;34m)\u001b[0m\u001b[0;34m)\u001b[0m\u001b[0;34m\u001b[0m\u001b[0;34m\u001b[0m\u001b[0m\n\u001b[0m\u001b[1;32m    327\u001b[0m \u001b[0;34m\u001b[0m\u001b[0m\n\u001b[1;32m    328\u001b[0m         \u001b[0;32mreturn\u001b[0m \u001b[0mr\u001b[0m\u001b[0;34m.\u001b[0m\u001b[0mjson\u001b[0m\u001b[0;34m(\u001b[0m\u001b[0;34m)\u001b[0m\u001b[0;34m\u001b[0m\u001b[0;34m\u001b[0m\u001b[0m\n",
      "\u001b[0;31mNewsAPIException\u001b[0m: {'status': 'error', 'code': 'rateLimited', 'message': 'You have made too many requests recently. Developer accounts are limited to 100 requests over a 24 hour period (50 requests available every 12 hours). Please upgrade to a paid plan if you need more requests.'}"
     ]
    }
   ],
   "source": [
    "ticker_sentiment = [] \n",
    "for ticker in tickers.index: \n",
    "    sentiment = get_sentiment(tickers['Company'][ticker])\n",
    "    print(sentiment)\n",
    "    if float(sentiment) >= 0.1:\n",
    "        ticker_sentiment.append(ticker)\n",
    "        print(f\"{ticker} meets our sentiment requirement\")\n",
    "    else:\n",
    "        print(f\"{ticker} does not meet our sentiment requirement\")"
   ]
  },
  {
   "cell_type": "code",
   "execution_count": 14,
   "metadata": {},
   "outputs": [
    {
     "name": "stdout",
     "output_type": "stream",
     "text": [
      "ACTIVE\n"
     ]
    }
   ],
   "source": [
    "### Set Alpaca API key and secret\n",
    "alpaca_api_key = os.getenv(\"ALPACA_API_KEY\")\n",
    "alpaca_secret_key = os.getenv(\"ALPACA_SECRET_KEY\")\n",
    "\n",
    "api = tradeapi.REST(\n",
    "    alpaca_api_key,\n",
    "    alpaca_secret_key,\n",
    "    api_version = \"v2\",\n",
    "    base_url = \"https://paper-api.alpaca.markets\"\n",
    ")\n",
    "account = api.get_account()\n",
    "print(account.status)"
   ]
  },
  {
   "cell_type": "code",
   "execution_count": 15,
   "metadata": {},
   "outputs": [],
   "source": [
    "#Set time frame for reporting stocks\n",
    "today = datetime.date.today()\n",
    "tomorrow = today + datetime.timedelta(days = 2) \n",
    "start_time = tomorrow.strftime(\"%b %d %Y\") + \" 10:00AM\"\n",
    "next_day = today + datetime.timedelta(days = 1) \n",
    "end_time = next_day.strftime(\"%b %d %Y\") + \" 1:00PM\"\n",
    "\n",
    "date_from = datetime.datetime.strptime(\n",
    "    start_time, '%b %d %Y %I:%M%p')\n",
    "date_to = datetime.datetime.strptime(\n",
    "    end_time, '%b %d %Y %I:%M%p')"
   ]
  },
  {
   "cell_type": "code",
   "execution_count": null,
   "metadata": {},
   "outputs": [],
   "source": [
    "# Set timeframe to '1D'\n",
    "timeframe = \"1D\"\n",
    "\n",
    "#Set timeframe for last 2 years\n",
    "start_date = pd.Timestamp(\"2018-05-01\", tz=\"America/New_York\").isoformat()\n",
    "end_date = pd.Timestamp(next_day, tz=\"America/New_York\").isoformat()\n",
    "\n",
    "#Get ticker data\n",
    "df_ticker = api.get_barset(\n",
    "    ticker_sentiment,\n",
    "    timeframe,\n",
    "    start=start_date,\n",
    "    end=end_date,\n",
    ").df\n",
    "\n",
    "df_ticker.dropna()\n",
    "df_ticker.tail()\n"
   ]
  },
  {
   "cell_type": "code",
   "execution_count": null,
   "metadata": {},
   "outputs": [],
   "source": [
    "df_closing_prices = pd.DataFrame()\n",
    "for ticker in ticker_sentiment: \n",
    "    df_closing_prices[ticker] = df_ticker[ticker][\"close\"]"
   ]
  },
  {
   "cell_type": "code",
   "execution_count": null,
   "metadata": {},
   "outputs": [],
   "source": [
    "df_closing_prices.dropna(inplace=True)\n",
    "df_closing_prices.tail()"
   ]
  },
  {
   "cell_type": "code",
   "execution_count": null,
   "metadata": {},
   "outputs": [],
   "source": [
    "def hpfilter(ticker):\n",
    "    ts_noise, ts_trend = sm.tsa.filters.hpfilter(df_ticker[ticker][['close']])\n",
    "\n",
    "    #create different dataframes for each composition\n",
    "    ticker_decomp = df_ticker[ticker][['close']].copy()\n",
    "    ticker_decomp['noise'] = ts_noise\n",
    "    ticker_decomp['trend'] = ts_trend\n",
    "    return ts_noise.plot(title='Noise')"
   ]
  },
  {
   "cell_type": "code",
   "execution_count": null,
   "metadata": {},
   "outputs": [],
   "source": [
    "for ticker in ticker_sentiment: \n",
    "    print(hpfilter((ticker)))"
   ]
  },
  {
   "cell_type": "code",
   "execution_count": null,
   "metadata": {},
   "outputs": [],
   "source": [
    "#Plot ACF & PACF\n",
    "from statsmodels.graphics.tsaplots import plot_acf, plot_pacf \n",
    "plot_acf(df.df_closing_prices, zero=False, lags=35) "
   ]
  },
  {
   "cell_type": "code",
   "execution_count": null,
   "metadata": {},
   "outputs": [],
   "source": [
    "plot_pacf(df.df_closing_prices, zero=False, lags=35) "
   ]
  },
  {
   "cell_type": "markdown",
   "metadata": {},
   "source": [
    "But you need to be careful to not over-difference the series. Because, an over differenced series may still be stationary, which in turn will affect the model parameters.\n",
    "\n",
    "So how to determine the right order of differencing?\n",
    "\n",
    "The right order of differencing is the minimum differencing required to get a near-stationary series which roams around a defined mean and the ACF plot reaches to zero fairly quick.\n",
    "\n",
    "If the autocorrelations are positive for many number of lags (10 or more), then the series needs further differencing. On the other hand, if the lag 1 autocorrelation itself is too negative, then the series is probably over-differenced.\n",
    "\n",
    "In the event, you can’t really decide between two orders of differencing, then go with the order that gives the least standard deviation in the differenced series.\n"
   ]
  },
  {
   "cell_type": "code",
   "execution_count": null,
   "metadata": {},
   "outputs": [],
   "source": [
    "price_forcasting = pd.DataFrame()\n",
    "dfs=[]\n",
    "for ticker in df_closing_prices: \n",
    "    model = ARIMA(df_closing_prices[ticker], order=(1,1,1))\n",
    "    results = model.fit()\n",
    "    df = pd.DataFrame(results.forecast(steps=15)[0], columns=[ticker])\n",
    "    dfs.append(df)\n",
    "\n",
    "final_df = pd.concat(dfs, axis=1)\n",
    "final_df.head(20)"
   ]
  },
  {
   "cell_type": "code",
   "execution_count": null,
   "metadata": {},
   "outputs": [],
   "source": [
    "#Evaluate Arima Model using metrics\n",
    "def forecast_accuracy(forecast, actual):\n",
    "    mape = np.mean(np.abs(forecast - actual)/np.abs(actual))  # MAPE\n",
    "    me = np.mean(forecast - actual)             # ME\n",
    "    mae = np.mean(np.abs(forecast - actual))    # MAE\n",
    "    mpe = np.mean((forecast - actual)/actual)   # MPE\n",
    "    rmse = np.mean((forecast - actual)**2)**.5  # RMSE\n",
    "    corr = np.corrcoef(forecast, actual)[0,1]   # corr\n",
    "    mins = np.amin(np.hstack([forecast[:,None], \n",
    "                              actual[:,None]]), axis=1)\n",
    "    maxs = np.amax(np.hstack([forecast[:,None], \n",
    "                              actual[:,None]]), axis=1)\n",
    "    minmax = 1 - np.mean(mins/maxs)             # minmax\n",
    "    acf1 = acf(fc-test)[1]                      # ACF1\n",
    "    return({'mape':mape, 'me':me, 'mae': mae, \n",
    "            'mpe': mpe, 'rmse':rmse, 'acf1':acf1, \n",
    "            'corr':corr, 'minmax':minmax})\n",
    "\n",
    "forecast_accuracy(fc, test.values)"
   ]
  },
  {
   "cell_type": "code",
   "execution_count": 16,
   "metadata": {},
   "outputs": [
    {
     "ename": "NameError",
     "evalue": "name 'model' is not defined",
     "output_type": "error",
     "traceback": [
      "\u001b[0;31m---------------------------------------------------------------------------\u001b[0m",
      "\u001b[0;31mNameError\u001b[0m                                 Traceback (most recent call last)",
      "\u001b[0;32m<ipython-input-16-d7f23ab200db>\u001b[0m in \u001b[0;36m<module>\u001b[0;34m\u001b[0m\n\u001b[1;32m      1\u001b[0m \u001b[0;31m#plot Arima Model\u001b[0m\u001b[0;34m\u001b[0m\u001b[0;34m\u001b[0m\u001b[0;34m\u001b[0m\u001b[0m\n\u001b[0;32m----> 2\u001b[0;31m \u001b[0mmodel\u001b[0m\u001b[0;34m.\u001b[0m\u001b[0mplot_diagnostics\u001b[0m\u001b[0;34m(\u001b[0m\u001b[0mfigsize\u001b[0m\u001b[0;34m=\u001b[0m\u001b[0;34m(\u001b[0m\u001b[0;36m7\u001b[0m\u001b[0;34m,\u001b[0m\u001b[0;36m5\u001b[0m\u001b[0;34m)\u001b[0m\u001b[0;34m)\u001b[0m\u001b[0;34m\u001b[0m\u001b[0;34m\u001b[0m\u001b[0m\n\u001b[0m\u001b[1;32m      3\u001b[0m \u001b[0mplt\u001b[0m\u001b[0;34m.\u001b[0m\u001b[0mshow\u001b[0m\u001b[0;34m(\u001b[0m\u001b[0;34m)\u001b[0m\u001b[0;34m\u001b[0m\u001b[0;34m\u001b[0m\u001b[0m\n",
      "\u001b[0;31mNameError\u001b[0m: name 'model' is not defined"
     ]
    }
   ],
   "source": [
    "#plot Arima Model \n",
    "model.plot_diagnostics(figsize=(7,5))\n",
    "plt.show()"
   ]
  },
  {
   "cell_type": "markdown",
   "metadata": {},
   "source": [
    "Top left: The residual errors seem to fluctuate around a mean of zero and have a uniform variance.\n",
    "\n",
    "Top Right: The density plot suggest normal distribution with mean zero.\n",
    "\n",
    "Bottom left: All the dots should fall perfectly in line with the red line. Any significant deviations would imply the distribution is skewed.\n",
    "\n",
    "Bottom Right: The Correlogram, aka, ACF plot shows the residual errors are not autocorrelated. Any autocorrelation would imply that there is some pattern in the residual errors which are not explained in the model. So you will need to look for more X’s (predictors) to the model."
   ]
  },
  {
   "cell_type": "code",
   "execution_count": null,
   "metadata": {},
   "outputs": [],
   "source": [
    "df_closing_list = df_closing_prices.iloc[[-1]].values.tolist()\n",
    "final_df_list = final_df.iloc[[9]].values.tolist()\n"
   ]
  },
  {
   "cell_type": "code",
   "execution_count": null,
   "metadata": {},
   "outputs": [],
   "source": [
    "base_price = df_closing_list[0]\n",
    "enter_price = final_df_list[0]\n",
    "print(enter_price,base_price)"
   ]
  },
  {
   "cell_type": "code",
   "execution_count": null,
   "metadata": {},
   "outputs": [],
   "source": [
    "investment = 2500\n",
    "\n",
    "stock_capital = round(investment / len(stock_buys),2)\n",
    "print(stock_capital)"
   ]
  },
  {
   "cell_type": "code",
   "execution_count": null,
   "metadata": {},
   "outputs": [],
   "source": [
    "\n",
    "stock_buys=[]\n",
    "number_of_shares = {}\n",
    "num = 0 \n",
    "for ticker in df_closing_prices: \n",
    "    value = round((enter_price[num] - base_price[num])/ base_price[num] * 100.0,2)\n",
    "    if value > 7:\n",
    "        stock_buys.append(ticker)\n",
    "        number_of_shares[ticker] = math.floor(stock_capital/enter_price[num])\n",
    "        api.submit_order(\n",
    "            symbol=ticker,\n",
    "            side='buy',\n",
    "            type='limit',\n",
    "            limit_price=enter_price[num],\n",
    "            qty=number_of_shares[ticker],\n",
    "            time_in_force='day',\n",
    "            take_profit=dict(\n",
    "                limit_price=enter_price[num]*1.50,\n",
    "            ),\n",
    "            stop_loss=dict(\n",
    "                stop_price=enter_price[num]/1.20,\n",
    "            )\n",
    "        )\n",
    "    num += 1\n"
   ]
  },
  {
   "cell_type": "code",
   "execution_count": null,
   "metadata": {},
   "outputs": [],
   "source": [
    "print(stock_buys)"
   ]
  },
  {
   "cell_type": "code",
   "execution_count": null,
   "metadata": {},
   "outputs": [],
   "source": [
    "print(number_of_shares)"
   ]
  },
  {
   "cell_type": "code",
   "execution_count": null,
   "metadata": {},
   "outputs": [],
   "source": [
    "print(api.get_clock())"
   ]
  },
  {
   "cell_type": "code",
   "execution_count": null,
   "metadata": {},
   "outputs": [],
   "source": []
  }
 ],
 "metadata": {
  "file_extension": ".py",
  "kernelspec": {
   "display_name": "Python 3",
   "language": "python",
   "name": "python3"
  },
  "language_info": {
   "codemirror_mode": {
    "name": "ipython",
    "version": 3
   },
   "file_extension": ".py",
   "mimetype": "text/x-python",
   "name": "python",
   "nbconvert_exporter": "python",
   "pygments_lexer": "ipython3",
   "version": "3.7.7"
  },
  "mimetype": "text/x-python",
  "name": "python",
  "npconvert_exporter": "python",
  "pygments_lexer": "ipython3",
  "version": 3
 },
 "nbformat": 4,
 "nbformat_minor": 4
}
