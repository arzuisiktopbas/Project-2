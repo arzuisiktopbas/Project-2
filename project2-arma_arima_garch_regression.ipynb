{
 "cells": [
  {
   "cell_type": "code",
   "execution_count": 1,
   "metadata": {},
   "outputs": [],
   "source": [
    "# Initial imports\n",
    "import os\n",
    "import pandas as pd\n",
    "from dotenv import load_dotenv\n",
    "from nltk.sentiment.vader import SentimentIntensityAnalyzer\n",
    "analyzer = SentimentIntensityAnalyzer()\n",
    "from newsapi import NewsApiClient\n",
    "from finvizfinance.screener.overview import Overview\n",
    "import alpaca_trade_api as tradeapi\n",
    "import datetime\n",
    "\n",
    "%matplotlib inline\n",
    "import warnings\n",
    "warnings.filterwarnings('ignore')"
   ]
  },
  {
   "cell_type": "code",
   "execution_count": 2,
   "metadata": {},
   "outputs": [
    {
     "name": "stdout",
     "output_type": "stream",
     "text": [
      "72eb697da30247e48848efe5e7881618\n"
     ]
    }
   ],
   "source": [
    "# Read your api key environment variable\n",
    "from dotenv import load_dotenv\n",
    "load_dotenv()\n",
    "api_key = os.getenv(\"news_api\")\n",
    "print(api_key)"
   ]
  },
  {
   "cell_type": "code",
   "execution_count": 3,
   "metadata": {},
   "outputs": [],
   "source": [
    "# Create a newsapi client\n",
    "newsapi = NewsApiClient(api_key=os.environ[\"news_api\"])"
   ]
  },
  {
   "cell_type": "code",
   "execution_count": 4,
   "metadata": {},
   "outputs": [
    {
     "name": "stdout",
     "output_type": "stream",
     "text": [
      "[Info] loading page [##############################] 1/1 \r"
     ]
    },
    {
     "data": {
      "text/html": [
       "<div>\n",
       "<style scoped>\n",
       "    .dataframe tbody tr th:only-of-type {\n",
       "        vertical-align: middle;\n",
       "    }\n",
       "\n",
       "    .dataframe tbody tr th {\n",
       "        vertical-align: top;\n",
       "    }\n",
       "\n",
       "    .dataframe thead th {\n",
       "        text-align: right;\n",
       "    }\n",
       "</style>\n",
       "<table border=\"1\" class=\"dataframe\">\n",
       "  <thead>\n",
       "    <tr style=\"text-align: right;\">\n",
       "      <th></th>\n",
       "      <th>Company</th>\n",
       "      <th>Sector</th>\n",
       "      <th>Industry</th>\n",
       "      <th>Country</th>\n",
       "      <th>Market Cap</th>\n",
       "      <th>P/E</th>\n",
       "      <th>Price</th>\n",
       "      <th>Change</th>\n",
       "      <th>Volume</th>\n",
       "    </tr>\n",
       "    <tr>\n",
       "      <th>Ticker</th>\n",
       "      <th></th>\n",
       "      <th></th>\n",
       "      <th></th>\n",
       "      <th></th>\n",
       "      <th></th>\n",
       "      <th></th>\n",
       "      <th></th>\n",
       "      <th></th>\n",
       "      <th></th>\n",
       "    </tr>\n",
       "  </thead>\n",
       "  <tbody>\n",
       "    <tr>\n",
       "      <th>CTXR</th>\n",
       "      <td>Citius Pharmaceuticals, Inc.</td>\n",
       "      <td>Healthcare</td>\n",
       "      <td>Biotechnology</td>\n",
       "      <td>USA</td>\n",
       "      <td>120040000.0</td>\n",
       "      <td>None</td>\n",
       "      <td>1.69</td>\n",
       "      <td>0.2426</td>\n",
       "      <td>31928991.0</td>\n",
       "    </tr>\n",
       "    <tr>\n",
       "      <th>CYRN</th>\n",
       "      <td>CYREN Ltd.</td>\n",
       "      <td>Technology</td>\n",
       "      <td>Software - Infrastructure</td>\n",
       "      <td>USA</td>\n",
       "      <td>80940000.0</td>\n",
       "      <td>None</td>\n",
       "      <td>1.34</td>\n",
       "      <td>0.0806</td>\n",
       "      <td>7206560.0</td>\n",
       "    </tr>\n",
       "    <tr>\n",
       "      <th>DFFN</th>\n",
       "      <td>Diffusion Pharmaceuticals Inc.</td>\n",
       "      <td>Healthcare</td>\n",
       "      <td>Biotechnology</td>\n",
       "      <td>USA</td>\n",
       "      <td>117620000.0</td>\n",
       "      <td>None</td>\n",
       "      <td>1.70</td>\n",
       "      <td>0.3710</td>\n",
       "      <td>106592258.0</td>\n",
       "    </tr>\n",
       "    <tr>\n",
       "      <th>DNN</th>\n",
       "      <td>Denison Mines Corp.</td>\n",
       "      <td>Energy</td>\n",
       "      <td>Uranium</td>\n",
       "      <td>Canada</td>\n",
       "      <td>923800000.0</td>\n",
       "      <td>None</td>\n",
       "      <td>1.49</td>\n",
       "      <td>0.3423</td>\n",
       "      <td>210874452.0</td>\n",
       "    </tr>\n",
       "    <tr>\n",
       "      <th>GSV</th>\n",
       "      <td>Gold Standard Ventures Corp</td>\n",
       "      <td>Basic Materials</td>\n",
       "      <td>Gold</td>\n",
       "      <td>Canada</td>\n",
       "      <td>279360000.0</td>\n",
       "      <td>None</td>\n",
       "      <td>0.89</td>\n",
       "      <td>0.0490</td>\n",
       "      <td>32033975.0</td>\n",
       "    </tr>\n",
       "    <tr>\n",
       "      <th>ITP</th>\n",
       "      <td>IT Tech Packaging, Inc.</td>\n",
       "      <td>Basic Materials</td>\n",
       "      <td>Paper &amp; Paper Products</td>\n",
       "      <td>China</td>\n",
       "      <td>42540000.0</td>\n",
       "      <td>None</td>\n",
       "      <td>1.44</td>\n",
       "      <td>0.3211</td>\n",
       "      <td>41753643.0</td>\n",
       "    </tr>\n",
       "    <tr>\n",
       "      <th>PVL</th>\n",
       "      <td>Permianville Royalty Trust</td>\n",
       "      <td>Energy</td>\n",
       "      <td>Oil &amp; Gas E&amp;P</td>\n",
       "      <td>USA</td>\n",
       "      <td>49640000.0</td>\n",
       "      <td>6.98</td>\n",
       "      <td>1.57</td>\n",
       "      <td>0.1056</td>\n",
       "      <td>1983265.0</td>\n",
       "    </tr>\n",
       "    <tr>\n",
       "      <th>SONM</th>\n",
       "      <td>Sonim Technologies, Inc.</td>\n",
       "      <td>Technology</td>\n",
       "      <td>Communication Equipment</td>\n",
       "      <td>USA</td>\n",
       "      <td>104040000.0</td>\n",
       "      <td>None</td>\n",
       "      <td>1.56</td>\n",
       "      <td>0.3220</td>\n",
       "      <td>15921466.0</td>\n",
       "    </tr>\n",
       "  </tbody>\n",
       "</table>\n",
       "</div>"
      ],
      "text/plain": [
       "                               Company           Sector  \\\n",
       "Ticker                                                    \n",
       "CTXR      Citius Pharmaceuticals, Inc.       Healthcare   \n",
       "CYRN                        CYREN Ltd.       Technology   \n",
       "DFFN    Diffusion Pharmaceuticals Inc.       Healthcare   \n",
       "DNN                Denison Mines Corp.           Energy   \n",
       "GSV        Gold Standard Ventures Corp  Basic Materials   \n",
       "ITP            IT Tech Packaging, Inc.  Basic Materials   \n",
       "PVL         Permianville Royalty Trust           Energy   \n",
       "SONM          Sonim Technologies, Inc.       Technology   \n",
       "\n",
       "                         Industry Country   Market Cap   P/E  Price  Change  \\\n",
       "Ticker                                                                        \n",
       "CTXR                Biotechnology     USA  120040000.0  None   1.69  0.2426   \n",
       "CYRN    Software - Infrastructure     USA   80940000.0  None   1.34  0.0806   \n",
       "DFFN                Biotechnology     USA  117620000.0  None   1.70  0.3710   \n",
       "DNN                       Uranium  Canada  923800000.0  None   1.49  0.3423   \n",
       "GSV                          Gold  Canada  279360000.0  None   0.89  0.0490   \n",
       "ITP        Paper & Paper Products   China   42540000.0  None   1.44  0.3211   \n",
       "PVL                 Oil & Gas E&P     USA   49640000.0  6.98   1.57  0.1056   \n",
       "SONM      Communication Equipment     USA  104040000.0  None   1.56  0.3220   \n",
       "\n",
       "             Volume  \n",
       "Ticker               \n",
       "CTXR     31928991.0  \n",
       "CYRN      7206560.0  \n",
       "DFFN    106592258.0  \n",
       "DNN     210874452.0  \n",
       "GSV      32033975.0  \n",
       "ITP      41753643.0  \n",
       "PVL       1983265.0  \n",
       "SONM     15921466.0  "
      ]
     },
     "execution_count": 4,
     "metadata": {},
     "output_type": "execute_result"
    }
   ],
   "source": [
    "foverview = Overview()\n",
    "\n",
    "filters_dict = {\n",
    "    'Performance':'Today Up',\n",
    "    'Price':\"Under $2\", \n",
    "    'Relative Volume': \"Over 5\"\n",
    "}\n",
    "foverview.set_filter(filters_dict=filters_dict)\n",
    "\n",
    "tickers = foverview.ScreenerView()\n",
    "#tickers.sort_values(by='Volume', inplace=True, ascending=False)\n",
    "tickers.set_index('Ticker', inplace=True )\n",
    "tickers.head(8)"
   ]
  },
  {
   "cell_type": "code",
   "execution_count": 5,
   "metadata": {},
   "outputs": [],
   "source": [
    "def get_sentiment(company):\n",
    "    stock_headlines = ( newsapi.get_everything(\n",
    "    q=company,\n",
    "    language='en',\n",
    "    sort_by='relevancy'))\n",
    "\n",
    "    sentiments = []\n",
    "\n",
    "    for articles in stock_headlines['articles']:\n",
    "        try:\n",
    "            text = articles['content']\n",
    "            results = analyzer.polarity_scores(text)\n",
    "            compound = results['compound']\n",
    "            pos = results['pos']\n",
    "            neu = results['neu']\n",
    "            neg = results['neg'] \n",
    "\n",
    "            #put data into sentiments\n",
    "            sentiments.append({\n",
    "                'text':text,\n",
    "                'Compound':compound,\n",
    "                'Positive':pos,\n",
    "                'Negative':neg,\n",
    "                'Neutral':neu})\n",
    "\n",
    "        except AttributeError:\n",
    "            pass\n",
    "    fininal_sentiments = pd.DataFrame(sentiments)\n",
    "    if not fininal_sentiments.empty:\n",
    "        return(fininal_sentiments[\"Positive\"].mean())\n",
    "    else:\n",
    "        return(0)"
   ]
  },
  {
   "cell_type": "code",
   "execution_count": 6,
   "metadata": {},
   "outputs": [
    {
     "name": "stdout",
     "output_type": "stream",
     "text": [
      "0.06075\n",
      "CTXR does meets our sentiment requirement\n",
      "0.055125\n",
      "CYRN does meets our sentiment requirement\n",
      "0.034846153846153846\n",
      "DFFN does not meet our sentiment requirement\n",
      "0.09937499999999999\n",
      "DNN does meets our sentiment requirement\n",
      "0.0374\n",
      "GSV does not meet our sentiment requirement\n",
      "0.04215\n",
      "ITP does not meet our sentiment requirement\n",
      "0\n",
      "PVL does not meet our sentiment requirement\n",
      "0.0\n",
      "SONM does not meet our sentiment requirement\n"
     ]
    }
   ],
   "source": [
    "ticker_sentiment = [] \n",
    "for ticker in tickers.index: \n",
    "    sentiment = get_sentiment(tickers['Company'][ticker])\n",
    "    print(sentiment)\n",
    "    if float(sentiment) >= 0.05:\n",
    "        ticker_sentiment.append(ticker)\n",
    "        print(f\"{ticker} does meets our sentiment requirement\")\n",
    "    else:\n",
    "        print(f\"{ticker} does not meet our sentiment requirement\")"
   ]
  },
  {
   "cell_type": "code",
   "execution_count": 7,
   "metadata": {},
   "outputs": [],
   "source": [
    "### Set Alpaca API key and secret\n",
    "alpaca_api_key = os.getenv(\"ALPACA_API_KEY\")\n",
    "alpaca_secret_key = os.getenv(\"ALPACA_SECRET_KEY\")\n",
    "\n",
    "api = tradeapi.REST(\n",
    "    alpaca_api_key,\n",
    "    alpaca_secret_key,\n",
    "    api_version = \"v2\"\n",
    ")"
   ]
  },
  {
   "cell_type": "code",
   "execution_count": 8,
   "metadata": {},
   "outputs": [],
   "source": [
    "#Set time frame for reporting stocks\n",
    "today = datetime.date.today()\n",
    "tomorrow = today + datetime.timedelta(days = 2) \n",
    "start_time = tomorrow.strftime(\"%b %d %Y\") + \" 10:00AM\"\n",
    "next_day = today + datetime.timedelta(days = 1) \n",
    "end_time = next_day.strftime(\"%b %d %Y\") + \" 1:00PM\"\n",
    "\n",
    "date_from = datetime.datetime.strptime(\n",
    "    start_time, '%b %d %Y %I:%M%p')\n",
    "date_to = datetime.datetime.strptime(\n",
    "    end_time, '%b %d %Y %I:%M%p')"
   ]
  },
  {
   "cell_type": "code",
   "execution_count": 34,
   "metadata": {},
   "outputs": [
    {
     "data": {
      "text/html": [
       "<div>\n",
       "<style scoped>\n",
       "    .dataframe tbody tr th:only-of-type {\n",
       "        vertical-align: middle;\n",
       "    }\n",
       "\n",
       "    .dataframe tbody tr th {\n",
       "        vertical-align: top;\n",
       "    }\n",
       "\n",
       "    .dataframe thead tr th {\n",
       "        text-align: left;\n",
       "    }\n",
       "\n",
       "    .dataframe thead tr:last-of-type th {\n",
       "        text-align: right;\n",
       "    }\n",
       "</style>\n",
       "<table border=\"1\" class=\"dataframe\">\n",
       "  <thead>\n",
       "    <tr>\n",
       "      <th></th>\n",
       "      <th colspan=\"5\" halign=\"left\">CTXR</th>\n",
       "      <th colspan=\"5\" halign=\"left\">CYRN</th>\n",
       "      <th colspan=\"5\" halign=\"left\">DNN</th>\n",
       "    </tr>\n",
       "    <tr>\n",
       "      <th></th>\n",
       "      <th>open</th>\n",
       "      <th>high</th>\n",
       "      <th>low</th>\n",
       "      <th>close</th>\n",
       "      <th>volume</th>\n",
       "      <th>open</th>\n",
       "      <th>high</th>\n",
       "      <th>low</th>\n",
       "      <th>close</th>\n",
       "      <th>volume</th>\n",
       "      <th>open</th>\n",
       "      <th>high</th>\n",
       "      <th>low</th>\n",
       "      <th>close</th>\n",
       "      <th>volume</th>\n",
       "    </tr>\n",
       "    <tr>\n",
       "      <th>time</th>\n",
       "      <th></th>\n",
       "      <th></th>\n",
       "      <th></th>\n",
       "      <th></th>\n",
       "      <th></th>\n",
       "      <th></th>\n",
       "      <th></th>\n",
       "      <th></th>\n",
       "      <th></th>\n",
       "      <th></th>\n",
       "      <th></th>\n",
       "      <th></th>\n",
       "      <th></th>\n",
       "      <th></th>\n",
       "      <th></th>\n",
       "    </tr>\n",
       "  </thead>\n",
       "  <tbody>\n",
       "    <tr>\n",
       "      <th>2021-02-09 00:00:00-05:00</th>\n",
       "      <td>1.39</td>\n",
       "      <td>1.43</td>\n",
       "      <td>1.34</td>\n",
       "      <td>1.4100</td>\n",
       "      <td>4682026</td>\n",
       "      <td>1.51</td>\n",
       "      <td>1.60</td>\n",
       "      <td>1.40</td>\n",
       "      <td>1.4789</td>\n",
       "      <td>3210934</td>\n",
       "      <td>0.9459</td>\n",
       "      <td>0.95</td>\n",
       "      <td>0.8953</td>\n",
       "      <td>0.9255</td>\n",
       "      <td>12544068</td>\n",
       "    </tr>\n",
       "    <tr>\n",
       "      <th>2021-02-10 00:00:00-05:00</th>\n",
       "      <td>1.43</td>\n",
       "      <td>1.50</td>\n",
       "      <td>1.25</td>\n",
       "      <td>1.3900</td>\n",
       "      <td>5743961</td>\n",
       "      <td>1.52</td>\n",
       "      <td>1.52</td>\n",
       "      <td>1.26</td>\n",
       "      <td>1.3900</td>\n",
       "      <td>2021896</td>\n",
       "      <td>1.0400</td>\n",
       "      <td>1.04</td>\n",
       "      <td>0.9000</td>\n",
       "      <td>0.9872</td>\n",
       "      <td>18898232</td>\n",
       "    </tr>\n",
       "    <tr>\n",
       "      <th>2021-02-11 00:00:00-05:00</th>\n",
       "      <td>1.40</td>\n",
       "      <td>1.43</td>\n",
       "      <td>1.32</td>\n",
       "      <td>1.3600</td>\n",
       "      <td>2728313</td>\n",
       "      <td>1.25</td>\n",
       "      <td>1.28</td>\n",
       "      <td>1.15</td>\n",
       "      <td>1.2300</td>\n",
       "      <td>7352567</td>\n",
       "      <td>0.9713</td>\n",
       "      <td>1.27</td>\n",
       "      <td>0.9524</td>\n",
       "      <td>1.0400</td>\n",
       "      <td>131220760</td>\n",
       "    </tr>\n",
       "    <tr>\n",
       "      <th>2021-02-12 00:00:00-05:00</th>\n",
       "      <td>1.37</td>\n",
       "      <td>1.39</td>\n",
       "      <td>1.30</td>\n",
       "      <td>1.3600</td>\n",
       "      <td>7655357</td>\n",
       "      <td>1.24</td>\n",
       "      <td>1.28</td>\n",
       "      <td>1.18</td>\n",
       "      <td>1.2350</td>\n",
       "      <td>6925753</td>\n",
       "      <td>1.3300</td>\n",
       "      <td>1.34</td>\n",
       "      <td>1.0700</td>\n",
       "      <td>1.1100</td>\n",
       "      <td>132257543</td>\n",
       "    </tr>\n",
       "    <tr>\n",
       "      <th>2021-02-16 00:00:00-05:00</th>\n",
       "      <td>1.39</td>\n",
       "      <td>1.78</td>\n",
       "      <td>1.37</td>\n",
       "      <td>1.6801</td>\n",
       "      <td>32160117</td>\n",
       "      <td>1.26</td>\n",
       "      <td>1.35</td>\n",
       "      <td>1.26</td>\n",
       "      <td>1.3400</td>\n",
       "      <td>6785827</td>\n",
       "      <td>1.2800</td>\n",
       "      <td>1.55</td>\n",
       "      <td>1.2400</td>\n",
       "      <td>1.4600</td>\n",
       "      <td>190110431</td>\n",
       "    </tr>\n",
       "  </tbody>\n",
       "</table>\n",
       "</div>"
      ],
      "text/plain": [
       "                           CTXR                                CYRN        \\\n",
       "                           open  high   low   close    volume  open  high   \n",
       "time                                                                        \n",
       "2021-02-09 00:00:00-05:00  1.39  1.43  1.34  1.4100   4682026  1.51  1.60   \n",
       "2021-02-10 00:00:00-05:00  1.43  1.50  1.25  1.3900   5743961  1.52  1.52   \n",
       "2021-02-11 00:00:00-05:00  1.40  1.43  1.32  1.3600   2728313  1.25  1.28   \n",
       "2021-02-12 00:00:00-05:00  1.37  1.39  1.30  1.3600   7655357  1.24  1.28   \n",
       "2021-02-16 00:00:00-05:00  1.39  1.78  1.37  1.6801  32160117  1.26  1.35   \n",
       "\n",
       "                                                     DNN                \\\n",
       "                            low   close   volume    open  high     low   \n",
       "time                                                                     \n",
       "2021-02-09 00:00:00-05:00  1.40  1.4789  3210934  0.9459  0.95  0.8953   \n",
       "2021-02-10 00:00:00-05:00  1.26  1.3900  2021896  1.0400  1.04  0.9000   \n",
       "2021-02-11 00:00:00-05:00  1.15  1.2300  7352567  0.9713  1.27  0.9524   \n",
       "2021-02-12 00:00:00-05:00  1.18  1.2350  6925753  1.3300  1.34  1.0700   \n",
       "2021-02-16 00:00:00-05:00  1.26  1.3400  6785827  1.2800  1.55  1.2400   \n",
       "\n",
       "                                              \n",
       "                            close     volume  \n",
       "time                                          \n",
       "2021-02-09 00:00:00-05:00  0.9255   12544068  \n",
       "2021-02-10 00:00:00-05:00  0.9872   18898232  \n",
       "2021-02-11 00:00:00-05:00  1.0400  131220760  \n",
       "2021-02-12 00:00:00-05:00  1.1100  132257543  \n",
       "2021-02-16 00:00:00-05:00  1.4600  190110431  "
      ]
     },
     "execution_count": 34,
     "metadata": {},
     "output_type": "execute_result"
    }
   ],
   "source": [
    "# Set timeframe to '1D'\n",
    "timeframe = \"1D\"\n",
    "\n",
    "#Set timeframe for last 2 years\n",
    "start_date = pd.Timestamp(\"2018-05-01\", tz=\"America/New_York\").isoformat()\n",
    "end_date = pd.Timestamp(next_day, tz=\"America/New_York\").isoformat()\n",
    "\n",
    "#Get ticker data\n",
    "df_ticker = api.get_barset(\n",
    "    ticker_sentiment,\n",
    "    timeframe,\n",
    "    start=start_date,\n",
    "    end=end_date\n",
    ").df\n",
    "\n",
    "df_ticker.dropna(inplace=True)\n",
    "df_ticker.tail()"
   ]
  },
  {
   "cell_type": "code",
   "execution_count": 35,
   "metadata": {},
   "outputs": [
    {
     "data": {
      "text/html": [
       "<div>\n",
       "<style scoped>\n",
       "    .dataframe tbody tr th:only-of-type {\n",
       "        vertical-align: middle;\n",
       "    }\n",
       "\n",
       "    .dataframe tbody tr th {\n",
       "        vertical-align: top;\n",
       "    }\n",
       "\n",
       "    .dataframe thead tr th {\n",
       "        text-align: left;\n",
       "    }\n",
       "\n",
       "    .dataframe thead tr:last-of-type th {\n",
       "        text-align: right;\n",
       "    }\n",
       "</style>\n",
       "<table border=\"1\" class=\"dataframe\">\n",
       "  <thead>\n",
       "    <tr>\n",
       "      <th></th>\n",
       "      <th>CTXR</th>\n",
       "      <th>CYRN</th>\n",
       "      <th>DNN</th>\n",
       "    </tr>\n",
       "    <tr>\n",
       "      <th></th>\n",
       "      <th>close</th>\n",
       "      <th>close</th>\n",
       "      <th>close</th>\n",
       "    </tr>\n",
       "    <tr>\n",
       "      <th>time</th>\n",
       "      <th></th>\n",
       "      <th></th>\n",
       "      <th></th>\n",
       "    </tr>\n",
       "  </thead>\n",
       "  <tbody>\n",
       "    <tr>\n",
       "      <th>2020-09-23 00:00:00-04:00</th>\n",
       "      <td>1.0200</td>\n",
       "      <td>0.9301</td>\n",
       "      <td>0.4195</td>\n",
       "    </tr>\n",
       "    <tr>\n",
       "      <th>2020-09-24 00:00:00-04:00</th>\n",
       "      <td>0.9692</td>\n",
       "      <td>1.0393</td>\n",
       "      <td>0.4113</td>\n",
       "    </tr>\n",
       "    <tr>\n",
       "      <th>2020-09-25 00:00:00-04:00</th>\n",
       "      <td>1.0100</td>\n",
       "      <td>1.0473</td>\n",
       "      <td>0.4184</td>\n",
       "    </tr>\n",
       "    <tr>\n",
       "      <th>2020-09-28 00:00:00-04:00</th>\n",
       "      <td>1.0550</td>\n",
       "      <td>1.0324</td>\n",
       "      <td>0.4270</td>\n",
       "    </tr>\n",
       "    <tr>\n",
       "      <th>2020-09-29 00:00:00-04:00</th>\n",
       "      <td>1.0450</td>\n",
       "      <td>1.0440</td>\n",
       "      <td>0.4100</td>\n",
       "    </tr>\n",
       "  </tbody>\n",
       "</table>\n",
       "</div>"
      ],
      "text/plain": [
       "                             CTXR    CYRN     DNN\n",
       "                            close   close   close\n",
       "time                                             \n",
       "2020-09-23 00:00:00-04:00  1.0200  0.9301  0.4195\n",
       "2020-09-24 00:00:00-04:00  0.9692  1.0393  0.4113\n",
       "2020-09-25 00:00:00-04:00  1.0100  1.0473  0.4184\n",
       "2020-09-28 00:00:00-04:00  1.0550  1.0324  0.4270\n",
       "2020-09-29 00:00:00-04:00  1.0450  1.0440  0.4100"
      ]
     },
     "execution_count": 35,
     "metadata": {},
     "output_type": "execute_result"
    }
   ],
   "source": [
    "df_ticker=df_ticker.loc[:, (slice(None), ['close'])]\n",
    "df_ticker.head()"
   ]
  },
  {
   "cell_type": "code",
   "execution_count": 36,
   "metadata": {},
   "outputs": [
    {
     "data": {
      "text/html": [
       "<div>\n",
       "<style scoped>\n",
       "    .dataframe tbody tr th:only-of-type {\n",
       "        vertical-align: middle;\n",
       "    }\n",
       "\n",
       "    .dataframe tbody tr th {\n",
       "        vertical-align: top;\n",
       "    }\n",
       "\n",
       "    .dataframe thead th {\n",
       "        text-align: right;\n",
       "    }\n",
       "</style>\n",
       "<table border=\"1\" class=\"dataframe\">\n",
       "  <thead>\n",
       "    <tr style=\"text-align: right;\">\n",
       "      <th></th>\n",
       "      <th>CTXR_close</th>\n",
       "      <th>CYRN_close</th>\n",
       "      <th>DNN_close</th>\n",
       "    </tr>\n",
       "    <tr>\n",
       "      <th>time</th>\n",
       "      <th></th>\n",
       "      <th></th>\n",
       "      <th></th>\n",
       "    </tr>\n",
       "  </thead>\n",
       "  <tbody>\n",
       "    <tr>\n",
       "      <th>2020-09-23 00:00:00-04:00</th>\n",
       "      <td>1.0200</td>\n",
       "      <td>0.9301</td>\n",
       "      <td>0.4195</td>\n",
       "    </tr>\n",
       "    <tr>\n",
       "      <th>2020-09-24 00:00:00-04:00</th>\n",
       "      <td>0.9692</td>\n",
       "      <td>1.0393</td>\n",
       "      <td>0.4113</td>\n",
       "    </tr>\n",
       "    <tr>\n",
       "      <th>2020-09-25 00:00:00-04:00</th>\n",
       "      <td>1.0100</td>\n",
       "      <td>1.0473</td>\n",
       "      <td>0.4184</td>\n",
       "    </tr>\n",
       "    <tr>\n",
       "      <th>2020-09-28 00:00:00-04:00</th>\n",
       "      <td>1.0550</td>\n",
       "      <td>1.0324</td>\n",
       "      <td>0.4270</td>\n",
       "    </tr>\n",
       "    <tr>\n",
       "      <th>2020-09-29 00:00:00-04:00</th>\n",
       "      <td>1.0450</td>\n",
       "      <td>1.0440</td>\n",
       "      <td>0.4100</td>\n",
       "    </tr>\n",
       "  </tbody>\n",
       "</table>\n",
       "</div>"
      ],
      "text/plain": [
       "                           CTXR_close  CYRN_close  DNN_close\n",
       "time                                                        \n",
       "2020-09-23 00:00:00-04:00      1.0200      0.9301     0.4195\n",
       "2020-09-24 00:00:00-04:00      0.9692      1.0393     0.4113\n",
       "2020-09-25 00:00:00-04:00      1.0100      1.0473     0.4184\n",
       "2020-09-28 00:00:00-04:00      1.0550      1.0324     0.4270\n",
       "2020-09-29 00:00:00-04:00      1.0450      1.0440     0.4100"
      ]
     },
     "execution_count": 36,
     "metadata": {},
     "output_type": "execute_result"
    }
   ],
   "source": [
    "df_ticker.columns = ['_'.join(col) for col in df_ticker.columns]\n",
    "df_ticker.head()"
   ]
  },
  {
   "cell_type": "code",
   "execution_count": 37,
   "metadata": {},
   "outputs": [
    {
     "data": {
      "text/plain": [
       "<AxesSubplot:xlabel='time'>"
      ]
     },
     "execution_count": 37,
     "metadata": {},
     "output_type": "execute_result"
    },
    {
     "data": {
      "image/png": "[encoded data removed]",
      "text/plain": [
       "<Figure size 432x288 with 1 Axes>"
      ]
     },
     "metadata": {
      "needs_background": "light"
     },
     "output_type": "display_data"
    }
   ],
   "source": [
    "df_ticker.plot()"
   ]
  },
  {
   "cell_type": "code",
   "execution_count": 38,
   "metadata": {},
   "outputs": [],
   "source": [
    "df_ticker=df_ticker.iloc[:, [1]]\n"
   ]
  },
  {
   "cell_type": "code",
   "execution_count": 39,
   "metadata": {},
   "outputs": [
    {
     "data": {
      "text/html": [
       "<div>\n",
       "<style scoped>\n",
       "    .dataframe tbody tr th:only-of-type {\n",
       "        vertical-align: middle;\n",
       "    }\n",
       "\n",
       "    .dataframe tbody tr th {\n",
       "        vertical-align: top;\n",
       "    }\n",
       "\n",
       "    .dataframe thead th {\n",
       "        text-align: right;\n",
       "    }\n",
       "</style>\n",
       "<table border=\"1\" class=\"dataframe\">\n",
       "  <thead>\n",
       "    <tr style=\"text-align: right;\">\n",
       "      <th></th>\n",
       "      <th>CYRN_close</th>\n",
       "      <th>noise</th>\n",
       "      <th>trend</th>\n",
       "    </tr>\n",
       "    <tr>\n",
       "      <th>time</th>\n",
       "      <th></th>\n",
       "      <th></th>\n",
       "      <th></th>\n",
       "    </tr>\n",
       "  </thead>\n",
       "  <tbody>\n",
       "    <tr>\n",
       "      <th>2020-09-23 00:00:00-04:00</th>\n",
       "      <td>0.9301</td>\n",
       "      <td>-0.117962</td>\n",
       "      <td>1.048062</td>\n",
       "    </tr>\n",
       "    <tr>\n",
       "      <th>2020-09-24 00:00:00-04:00</th>\n",
       "      <td>1.0393</td>\n",
       "      <td>-0.006293</td>\n",
       "      <td>1.045593</td>\n",
       "    </tr>\n",
       "    <tr>\n",
       "      <th>2020-09-25 00:00:00-04:00</th>\n",
       "      <td>1.0473</td>\n",
       "      <td>0.004249</td>\n",
       "      <td>1.043051</td>\n",
       "    </tr>\n",
       "    <tr>\n",
       "      <th>2020-09-28 00:00:00-04:00</th>\n",
       "      <td>1.0324</td>\n",
       "      <td>-0.007957</td>\n",
       "      <td>1.040357</td>\n",
       "    </tr>\n",
       "    <tr>\n",
       "      <th>2020-09-29 00:00:00-04:00</th>\n",
       "      <td>1.0440</td>\n",
       "      <td>0.006563</td>\n",
       "      <td>1.037437</td>\n",
       "    </tr>\n",
       "  </tbody>\n",
       "</table>\n",
       "</div>"
      ],
      "text/plain": [
       "                           CYRN_close     noise     trend\n",
       "time                                                     \n",
       "2020-09-23 00:00:00-04:00      0.9301 -0.117962  1.048062\n",
       "2020-09-24 00:00:00-04:00      1.0393 -0.006293  1.045593\n",
       "2020-09-25 00:00:00-04:00      1.0473  0.004249  1.043051\n",
       "2020-09-28 00:00:00-04:00      1.0324 -0.007957  1.040357\n",
       "2020-09-29 00:00:00-04:00      1.0440  0.006563  1.037437"
      ]
     },
     "execution_count": 39,
     "metadata": {},
     "output_type": "execute_result"
    }
   ],
   "source": [
    "import statsmodels.api as sm\n",
    "\n",
    "#Use HP Filter\n",
    "ts_noise, ts_trend = sm.tsa.filters.hpfilter(df_ticker)\n",
    "\n",
    "#create different dataframes for each composition\n",
    "ticker_1 = df_ticker.copy()\n",
    "ticker_1['noise'] = ts_noise\n",
    "ticker_1['trend'] = ts_trend\n",
    "ticker_1.head()"
   ]
  },
  {
   "cell_type": "code",
   "execution_count": 15,
   "metadata": {},
   "outputs": [
    {
     "data": {
      "image/png": "[encoded data removed]",
      "text/plain": [
       "<Figure size 432x288 with 1 Axes>"
      ]
     },
     "metadata": {
      "needs_background": "light"
     },
     "output_type": "display_data"
    }
   ],
   "source": [
    "ticker_1.iloc[:, [0,2]].plot(title = 'Close & Trend',figsize=(6,4));"
   ]
  },
  {
   "cell_type": "code",
   "execution_count": 16,
   "metadata": {},
   "outputs": [
    {
     "data": {
      "text/plain": [
       "<AxesSubplot:title={'center':'Noise'}, xlabel='time'>"
      ]
     },
     "execution_count": 16,
     "metadata": {},
     "output_type": "execute_result"
    },
    {
     "data": {
      "image/png": "[encoded data removed]",
      "text/plain": [
       "<Figure size 432x288 with 1 Axes>"
      ]
     },
     "metadata": {
      "needs_background": "light"
     },
     "output_type": "display_data"
    }
   ],
   "source": [
    "ts_noise.plot(title='Noise')"
   ]
  },
  {
   "cell_type": "code",
   "execution_count": 17,
   "metadata": {},
   "outputs": [
    {
     "data": {
      "text/html": [
       "<div>\n",
       "<style scoped>\n",
       "    .dataframe tbody tr th:only-of-type {\n",
       "        vertical-align: middle;\n",
       "    }\n",
       "\n",
       "    .dataframe tbody tr th {\n",
       "        vertical-align: top;\n",
       "    }\n",
       "\n",
       "    .dataframe thead th {\n",
       "        text-align: right;\n",
       "    }\n",
       "</style>\n",
       "<table border=\"1\" class=\"dataframe\">\n",
       "  <thead>\n",
       "    <tr style=\"text-align: right;\">\n",
       "      <th></th>\n",
       "      <th>CYRNclose</th>\n",
       "    </tr>\n",
       "    <tr>\n",
       "      <th>time</th>\n",
       "      <th></th>\n",
       "    </tr>\n",
       "  </thead>\n",
       "  <tbody>\n",
       "    <tr>\n",
       "      <th>2021-02-09 00:00:00-05:00</th>\n",
       "      <td>1.294521</td>\n",
       "    </tr>\n",
       "    <tr>\n",
       "      <th>2021-02-10 00:00:00-05:00</th>\n",
       "      <td>-6.011225</td>\n",
       "    </tr>\n",
       "    <tr>\n",
       "      <th>2021-02-11 00:00:00-05:00</th>\n",
       "      <td>-11.510791</td>\n",
       "    </tr>\n",
       "    <tr>\n",
       "      <th>2021-02-12 00:00:00-05:00</th>\n",
       "      <td>0.406504</td>\n",
       "    </tr>\n",
       "    <tr>\n",
       "      <th>2021-02-16 00:00:00-05:00</th>\n",
       "      <td>8.502024</td>\n",
       "    </tr>\n",
       "  </tbody>\n",
       "</table>\n",
       "</div>"
      ],
      "text/plain": [
       "                           CYRNclose\n",
       "time                                \n",
       "2021-02-09 00:00:00-05:00   1.294521\n",
       "2021-02-10 00:00:00-05:00  -6.011225\n",
       "2021-02-11 00:00:00-05:00 -11.510791\n",
       "2021-02-12 00:00:00-05:00   0.406504\n",
       "2021-02-16 00:00:00-05:00   8.502024"
      ]
     },
     "execution_count": 17,
     "metadata": {},
     "output_type": "execute_result"
    }
   ],
   "source": [
    "import numpy as np\n",
    "\n",
    "returns = (df_ticker.iloc[:, [0]].pct_change()*100)\n",
    "returns = returns.replace(-np.inf, np.nan).dropna()\n",
    "returns.tail()"
   ]
  },
  {
   "cell_type": "code",
   "execution_count": 18,
   "metadata": {},
   "outputs": [
    {
     "name": "stderr",
     "output_type": "stream",
     "text": [
      "/Users/arzuisiktopbas/opt/anaconda3/envs/mlenv/lib/python3.7/site-packages/statsmodels/tsa/base/tsa_model.py:583: ValueWarning: A date index has been provided, but it has no associated frequency information and so will be ignored when e.g. forecasting.\n",
      "  ' ignored when e.g. forecasting.', ValueWarning)\n"
     ]
    },
    {
     "data": {
      "text/html": [
       "<table class=\"simpletable\">\n",
       "<caption>ARMA Model Results</caption>\n",
       "<tr>\n",
       "  <th>Dep. Variable:</th>     <td>CYRNclose</td>    <th>  No. Observations:  </th>    <td>99</td>   \n",
       "</tr>\n",
       "<tr>\n",
       "  <th>Model:</th>            <td>ARMA(2, 1)</td>    <th>  Log Likelihood     </th> <td>-329.504</td>\n",
       "</tr>\n",
       "<tr>\n",
       "  <th>Method:</th>             <td>css-mle</td>     <th>  S.D. of innovations</th>   <td>6.737</td> \n",
       "</tr>\n",
       "<tr>\n",
       "  <th>Date:</th>          <td>Tue, 16 Feb 2021</td> <th>  AIC                </th>  <td>669.008</td>\n",
       "</tr>\n",
       "<tr>\n",
       "  <th>Time:</th>              <td>18:13:04</td>     <th>  BIC                </th>  <td>681.984</td>\n",
       "</tr>\n",
       "<tr>\n",
       "  <th>Sample:</th>                <td>0</td>        <th>  HQIC               </th>  <td>674.258</td>\n",
       "</tr>\n",
       "<tr>\n",
       "  <th></th>                       <td> </td>        <th>                     </th>     <td> </td>   \n",
       "</tr>\n",
       "</table>\n",
       "<table class=\"simpletable\">\n",
       "<tr>\n",
       "         <td></td>            <th>coef</th>     <th>std err</th>      <th>z</th>      <th>P>|z|</th>  <th>[0.025</th>    <th>0.975]</th>  \n",
       "</tr>\n",
       "<tr>\n",
       "  <th>const</th>           <td>    0.5077</td> <td>    0.246</td> <td>    2.063</td> <td> 0.039</td> <td>    0.025</td> <td>    0.990</td>\n",
       "</tr>\n",
       "<tr>\n",
       "  <th>ar.L1.CYRNclose</th> <td>    0.6247</td> <td>    0.156</td> <td>    3.997</td> <td> 0.000</td> <td>    0.318</td> <td>    0.931</td>\n",
       "</tr>\n",
       "<tr>\n",
       "  <th>ar.L2.CYRNclose</th> <td>   -0.0256</td> <td>    0.119</td> <td>   -0.215</td> <td> 0.830</td> <td>   -0.260</td> <td>    0.208</td>\n",
       "</tr>\n",
       "<tr>\n",
       "  <th>ma.L1.CYRNclose</th> <td>   -0.8617</td> <td>    0.120</td> <td>   -7.151</td> <td> 0.000</td> <td>   -1.098</td> <td>   -0.626</td>\n",
       "</tr>\n",
       "</table>\n",
       "<table class=\"simpletable\">\n",
       "<caption>Roots</caption>\n",
       "<tr>\n",
       "    <td></td>   <th>            Real</th>  <th>         Imaginary</th> <th>         Modulus</th>  <th>        Frequency</th>\n",
       "</tr>\n",
       "<tr>\n",
       "  <th>AR.1</th> <td>           1.7227</td> <td>          +0.0000j</td> <td>           1.7227</td> <td>           0.0000</td>\n",
       "</tr>\n",
       "<tr>\n",
       "  <th>AR.2</th> <td>          22.6406</td> <td>          +0.0000j</td> <td>          22.6406</td> <td>           0.0000</td>\n",
       "</tr>\n",
       "<tr>\n",
       "  <th>MA.1</th> <td>           1.1605</td> <td>          +0.0000j</td> <td>           1.1605</td> <td>           0.0000</td>\n",
       "</tr>\n",
       "</table>"
      ],
      "text/plain": [
       "<class 'statsmodels.iolib.summary.Summary'>\n",
       "\"\"\"\n",
       "                              ARMA Model Results                              \n",
       "==============================================================================\n",
       "Dep. Variable:              CYRNclose   No. Observations:                   99\n",
       "Model:                     ARMA(2, 1)   Log Likelihood                -329.504\n",
       "Method:                       css-mle   S.D. of innovations              6.737\n",
       "Date:                Tue, 16 Feb 2021   AIC                            669.008\n",
       "Time:                        18:13:04   BIC                            681.984\n",
       "Sample:                             0   HQIC                           674.258\n",
       "                                                                              \n",
       "===================================================================================\n",
       "                      coef    std err          z      P>|z|      [0.025      0.975]\n",
       "-----------------------------------------------------------------------------------\n",
       "const               0.5077      0.246      2.063      0.039       0.025       0.990\n",
       "ar.L1.CYRNclose     0.6247      0.156      3.997      0.000       0.318       0.931\n",
       "ar.L2.CYRNclose    -0.0256      0.119     -0.215      0.830      -0.260       0.208\n",
       "ma.L1.CYRNclose    -0.8617      0.120     -7.151      0.000      -1.098      -0.626\n",
       "                                    Roots                                    \n",
       "=============================================================================\n",
       "                  Real          Imaginary           Modulus         Frequency\n",
       "-----------------------------------------------------------------------------\n",
       "AR.1            1.7227           +0.0000j            1.7227            0.0000\n",
       "AR.2           22.6406           +0.0000j           22.6406            0.0000\n",
       "MA.1            1.1605           +0.0000j            1.1605            0.0000\n",
       "-----------------------------------------------------------------------------\n",
       "\"\"\""
      ]
     },
     "execution_count": 18,
     "metadata": {},
     "output_type": "execute_result"
    }
   ],
   "source": [
    "#Make AR(autocorrelation) MA(moving average) model (2,1)\n",
    "model = sm.tsa.ARMA(returns, order=(2,1))\n",
    "\n",
    "#Fit ARMA model\n",
    "results = model.fit()\n",
    "\n",
    "#load summary\n",
    "results.summary()"
   ]
  },
  {
   "cell_type": "code",
   "execution_count": 19,
   "metadata": {},
   "outputs": [
    {
     "data": {
      "text/plain": [
       "<AxesSubplot:title={'center':'Forcast ARMA next 5 days'}>"
      ]
     },
     "execution_count": 19,
     "metadata": {},
     "output_type": "execute_result"
    },
    {
     "data": {
      "image/png": "[encoded data removed]",
      "text/plain": [
       "<Figure size 432x288 with 1 Axes>"
      ]
     },
     "metadata": {
      "needs_background": "light"
     },
     "output_type": "display_data"
    }
   ],
   "source": [
    "pd.DataFrame(results.forecast(steps=5)[0]).plot(title='Forcast ARMA next 5 days')"
   ]
  },
  {
   "cell_type": "code",
   "execution_count": 20,
   "metadata": {},
   "outputs": [
    {
     "name": "stderr",
     "output_type": "stream",
     "text": [
      "/Users/arzuisiktopbas/opt/anaconda3/envs/mlenv/lib/python3.7/site-packages/statsmodels/tsa/base/tsa_model.py:583: ValueWarning: A date index has been provided, but it has no associated frequency information and so will be ignored when e.g. forecasting.\n",
      "  ' ignored when e.g. forecasting.', ValueWarning)\n",
      "/Users/arzuisiktopbas/opt/anaconda3/envs/mlenv/lib/python3.7/site-packages/statsmodels/tsa/base/tsa_model.py:583: ValueWarning: A date index has been provided, but it has no associated frequency information and so will be ignored when e.g. forecasting.\n",
      "  ' ignored when e.g. forecasting.', ValueWarning)\n"
     ]
    },
    {
     "data": {
      "text/html": [
       "<table class=\"simpletable\">\n",
       "<caption>ARIMA Model Results</caption>\n",
       "<tr>\n",
       "  <th>Dep. Variable:</th>    <td>D.CYRNclose</td>   <th>  No. Observations:  </th>    <td>99</td>   \n",
       "</tr>\n",
       "<tr>\n",
       "  <th>Model:</th>          <td>ARIMA(1, 1, 1)</td>  <th>  Log Likelihood     </th>  <td>118.064</td>\n",
       "</tr>\n",
       "<tr>\n",
       "  <th>Method:</th>             <td>css-mle</td>     <th>  S.D. of innovations</th>   <td>0.073</td> \n",
       "</tr>\n",
       "<tr>\n",
       "  <th>Date:</th>          <td>Tue, 16 Feb 2021</td> <th>  AIC                </th> <td>-228.128</td>\n",
       "</tr>\n",
       "<tr>\n",
       "  <th>Time:</th>              <td>18:13:05</td>     <th>  BIC                </th> <td>-217.748</td>\n",
       "</tr>\n",
       "<tr>\n",
       "  <th>Sample:</th>                <td>1</td>        <th>  HQIC               </th> <td>-223.928</td>\n",
       "</tr>\n",
       "<tr>\n",
       "  <th></th>                       <td> </td>        <th>                     </th>     <td> </td>   \n",
       "</tr>\n",
       "</table>\n",
       "<table class=\"simpletable\">\n",
       "<tr>\n",
       "          <td></td>             <th>coef</th>     <th>std err</th>      <th>z</th>      <th>P>|z|</th>  <th>[0.025</th>    <th>0.975]</th>  \n",
       "</tr>\n",
       "<tr>\n",
       "  <th>const</th>             <td>    0.0031</td> <td>    0.002</td> <td>    1.882</td> <td> 0.060</td> <td>   -0.000</td> <td>    0.006</td>\n",
       "</tr>\n",
       "<tr>\n",
       "  <th>ar.L1.D.CYRNclose</th> <td>    0.6348</td> <td>    0.121</td> <td>    5.234</td> <td> 0.000</td> <td>    0.397</td> <td>    0.873</td>\n",
       "</tr>\n",
       "<tr>\n",
       "  <th>ma.L1.D.CYRNclose</th> <td>   -0.9292</td> <td>    0.068</td> <td>  -13.652</td> <td> 0.000</td> <td>   -1.063</td> <td>   -0.796</td>\n",
       "</tr>\n",
       "</table>\n",
       "<table class=\"simpletable\">\n",
       "<caption>Roots</caption>\n",
       "<tr>\n",
       "    <td></td>   <th>            Real</th>  <th>         Imaginary</th> <th>         Modulus</th>  <th>        Frequency</th>\n",
       "</tr>\n",
       "<tr>\n",
       "  <th>AR.1</th> <td>           1.5752</td> <td>          +0.0000j</td> <td>           1.5752</td> <td>           0.0000</td>\n",
       "</tr>\n",
       "<tr>\n",
       "  <th>MA.1</th> <td>           1.0762</td> <td>          +0.0000j</td> <td>           1.0762</td> <td>           0.0000</td>\n",
       "</tr>\n",
       "</table>"
      ],
      "text/plain": [
       "<class 'statsmodels.iolib.summary.Summary'>\n",
       "\"\"\"\n",
       "                             ARIMA Model Results                              \n",
       "==============================================================================\n",
       "Dep. Variable:            D.CYRNclose   No. Observations:                   99\n",
       "Model:                 ARIMA(1, 1, 1)   Log Likelihood                 118.064\n",
       "Method:                       css-mle   S.D. of innovations              0.073\n",
       "Date:                Tue, 16 Feb 2021   AIC                           -228.128\n",
       "Time:                        18:13:05   BIC                           -217.748\n",
       "Sample:                             1   HQIC                          -223.928\n",
       "                                                                              \n",
       "=====================================================================================\n",
       "                        coef    std err          z      P>|z|      [0.025      0.975]\n",
       "-------------------------------------------------------------------------------------\n",
       "const                 0.0031      0.002      1.882      0.060      -0.000       0.006\n",
       "ar.L1.D.CYRNclose     0.6348      0.121      5.234      0.000       0.397       0.873\n",
       "ma.L1.D.CYRNclose    -0.9292      0.068    -13.652      0.000      -1.063      -0.796\n",
       "                                    Roots                                    \n",
       "=============================================================================\n",
       "                  Real          Imaginary           Modulus         Frequency\n",
       "-----------------------------------------------------------------------------\n",
       "AR.1            1.5752           +0.0000j            1.5752            0.0000\n",
       "MA.1            1.0762           +0.0000j            1.0762            0.0000\n",
       "-----------------------------------------------------------------------------\n",
       "\"\"\""
      ]
     },
     "execution_count": 20,
     "metadata": {},
     "output_type": "execute_result"
    }
   ],
   "source": [
    "from statsmodels.tsa.arima_model import ARIMA\n",
    "\n",
    "#AR(autocorrelation) I(difference) MA(moving average) model\n",
    "model = ARIMA(df_ticker.iloc[:, [0]], order=(1,1,1))\n",
    "\n",
    "#Fit\n",
    "results = model.fit()\n",
    "\n",
    "#summary\n",
    "results.summary()\n"
   ]
  },
  {
   "cell_type": "code",
   "execution_count": 21,
   "metadata": {},
   "outputs": [
    {
     "data": {
      "text/plain": [
       "<AxesSubplot:title={'center':'Forcast ARIMA next 5 days'}>"
      ]
     },
     "execution_count": 21,
     "metadata": {},
     "output_type": "execute_result"
    },
    {
     "data": {
      "image/png": "[encoded data removed]",
      "text/plain": [
       "<Figure size 432x288 with 1 Axes>"
      ]
     },
     "metadata": {
      "needs_background": "light"
     },
     "output_type": "display_data"
    }
   ],
   "source": [
    "# Forcast next 5 days\n",
    "pd.DataFrame(results.forecast(steps=5)[0]).plot(title='Forcast ARIMA next 5 days')"
   ]
  },
  {
   "cell_type": "code",
   "execution_count": 22,
   "metadata": {},
   "outputs": [
    {
     "name": "stdout",
     "output_type": "stream",
     "text": [
      "Iteration:      1,   Func. Count:      5,   Neg. LLF: 349.74210979730486\n",
      "Iteration:      2,   Func. Count:     10,   Neg. LLF: 334.8293620282569\n",
      "Iteration:      3,   Func. Count:     15,   Neg. LLF: 363.94555322467164\n",
      "Iteration:      4,   Func. Count:     21,   Neg. LLF: 333.10372456011476\n",
      "Iteration:      5,   Func. Count:     25,   Neg. LLF: 333.09698079459\n",
      "Iteration:      6,   Func. Count:     29,   Neg. LLF: 333.0507275331224\n",
      "Iteration:      7,   Func. Count:     33,   Neg. LLF: 332.9321152951561\n",
      "Iteration:      8,   Func. Count:     37,   Neg. LLF: 332.5172683784694\n",
      "Iteration:      9,   Func. Count:     41,   Neg. LLF: 332.1916639937459\n",
      "Iteration:     10,   Func. Count:     45,   Neg. LLF: 332.080453350264\n",
      "Iteration:     11,   Func. Count:     49,   Neg. LLF: 332.0093411612929\n",
      "Iteration:     12,   Func. Count:     53,   Neg. LLF: 331.986320918791\n",
      "Iteration:     13,   Func. Count:     57,   Neg. LLF: 331.98341260826095\n",
      "Iteration:     14,   Func. Count:     61,   Neg. LLF: 331.9832756854157\n",
      "Iteration:     15,   Func. Count:     65,   Neg. LLF: 331.98322181876364\n",
      "Iteration:     16,   Func. Count:     69,   Neg. LLF: 331.98320357407465\n",
      "Iteration:     17,   Func. Count:     73,   Neg. LLF: 331.9832022946489\n",
      "Iteration:     18,   Func. Count:     76,   Neg. LLF: 331.9832023273965\n",
      "Optimization terminated successfully    (Exit mode 0)\n",
      "            Current function value: 331.9832022946489\n",
      "            Iterations: 18\n",
      "            Function evaluations: 76\n",
      "            Gradient evaluations: 18\n"
     ]
    },
    {
     "data": {
      "text/html": [
       "<table class=\"simpletable\">\n",
       "<caption>Zero Mean - GARCH Model Results</caption>\n",
       "<tr>\n",
       "  <th>Dep. Variable:</th>      <td>CYRNclose</td>     <th>  R-squared:         </th>  <td>   0.000</td> \n",
       "</tr>\n",
       "<tr>\n",
       "  <th>Mean Model:</th>         <td>Zero Mean</td>     <th>  Adj. R-squared:    </th>  <td>   0.010</td> \n",
       "</tr>\n",
       "<tr>\n",
       "  <th>Vol Model:</th>            <td>GARCH</td>       <th>  Log-Likelihood:    </th> <td>  -331.983</td>\n",
       "</tr>\n",
       "<tr>\n",
       "  <th>Distribution:</th>        <td>Normal</td>       <th>  AIC:               </th> <td>   669.966</td>\n",
       "</tr>\n",
       "<tr>\n",
       "  <th>Method:</th>        <td>Maximum Likelihood</td> <th>  BIC:               </th> <td>   677.752</td>\n",
       "</tr>\n",
       "<tr>\n",
       "  <th></th>                        <td></td>          <th>  No. Observations:  </th>     <td>99</td>    \n",
       "</tr>\n",
       "<tr>\n",
       "  <th>Date:</th>           <td>Tue, Feb 16 2021</td>  <th>  Df Residuals:      </th>     <td>99</td>    \n",
       "</tr>\n",
       "<tr>\n",
       "  <th>Time:</th>               <td>18:13:06</td>      <th>  Df Model:          </th>      <td>0</td>    \n",
       "</tr>\n",
       "</table>\n",
       "<table class=\"simpletable\">\n",
       "<caption>Volatility Model</caption>\n",
       "<tr>\n",
       "      <td></td>        <th>coef</th>     <th>std err</th>      <th>t</th>       <th>P>|t|</th>   <th>95.0% Conf. Int.</th> \n",
       "</tr>\n",
       "<tr>\n",
       "  <th>omega</th>    <td>   45.1714</td> <td>   24.074</td> <td>    1.876</td> <td>6.061e-02</td> <td>[ -2.013, 92.356]</td>\n",
       "</tr>\n",
       "<tr>\n",
       "  <th>alpha[1]</th> <td>    0.0758</td> <td>    0.130</td> <td>    0.584</td> <td>    0.559</td> <td>[ -0.178,  0.330]</td>\n",
       "</tr>\n",
       "<tr>\n",
       "  <th>beta[1]</th>  <td>2.9387e-16</td> <td>    0.694</td> <td>4.233e-16</td> <td>    1.000</td> <td>[ -1.361,  1.361]</td>\n",
       "</tr>\n",
       "</table><br/><br/>Covariance estimator: robust"
      ],
      "text/plain": [
       "<class 'statsmodels.iolib.summary.Summary'>\n",
       "\"\"\"\n",
       "                       Zero Mean - GARCH Model Results                        \n",
       "==============================================================================\n",
       "Dep. Variable:              CYRNclose   R-squared:                       0.000\n",
       "Mean Model:                 Zero Mean   Adj. R-squared:                  0.010\n",
       "Vol Model:                      GARCH   Log-Likelihood:               -331.983\n",
       "Distribution:                  Normal   AIC:                           669.966\n",
       "Method:            Maximum Likelihood   BIC:                           677.752\n",
       "                                        No. Observations:                   99\n",
       "Date:                Tue, Feb 16 2021   Df Residuals:                       99\n",
       "Time:                        18:13:06   Df Model:                            0\n",
       "                            Volatility Model                            \n",
       "========================================================================\n",
       "                 coef    std err          t      P>|t|  95.0% Conf. Int.\n",
       "------------------------------------------------------------------------\n",
       "omega         45.1714     24.074      1.876  6.061e-02 [ -2.013, 92.356]\n",
       "alpha[1]       0.0758      0.130      0.584      0.559 [ -0.178,  0.330]\n",
       "beta[1]    2.9387e-16      0.694  4.233e-16      1.000 [ -1.361,  1.361]\n",
       "========================================================================\n",
       "\n",
       "Covariance estimator: robust\n",
       "\"\"\""
      ]
     },
     "execution_count": 22,
     "metadata": {},
     "output_type": "execute_result"
    }
   ],
   "source": [
    "import arch\n",
    "\n",
    "#GARCH - for near term volatility\n",
    "model = arch.arch_model(returns, mean='zero', vol='GARCH', p=1,q=1)\n",
    "\n",
    "#fit model\n",
    "results = model.fit()\n",
    "\n",
    "#summary output\n",
    "results.summary()"
   ]
  },
  {
   "cell_type": "code",
   "execution_count": 23,
   "metadata": {},
   "outputs": [
    {
     "data": {
      "text/html": [
       "<div>\n",
       "<style scoped>\n",
       "    .dataframe tbody tr th:only-of-type {\n",
       "        vertical-align: middle;\n",
       "    }\n",
       "\n",
       "    .dataframe tbody tr th {\n",
       "        vertical-align: top;\n",
       "    }\n",
       "\n",
       "    .dataframe thead th {\n",
       "        text-align: right;\n",
       "    }\n",
       "</style>\n",
       "<table border=\"1\" class=\"dataframe\">\n",
       "  <thead>\n",
       "    <tr style=\"text-align: right;\">\n",
       "      <th></th>\n",
       "      <th>h.1</th>\n",
       "      <th>h.2</th>\n",
       "      <th>h.3</th>\n",
       "      <th>h.4</th>\n",
       "      <th>h.5</th>\n",
       "    </tr>\n",
       "    <tr>\n",
       "      <th>time</th>\n",
       "      <th></th>\n",
       "      <th></th>\n",
       "      <th></th>\n",
       "      <th></th>\n",
       "      <th></th>\n",
       "    </tr>\n",
       "  </thead>\n",
       "  <tbody>\n",
       "    <tr>\n",
       "      <th>2021-02-16 00:00:00-05:00</th>\n",
       "      <td>112.975844</td>\n",
       "      <td>111.132306</td>\n",
       "      <td>110.991358</td>\n",
       "      <td>110.98067</td>\n",
       "      <td>110.97986</td>\n",
       "    </tr>\n",
       "  </tbody>\n",
       "</table>\n",
       "</div>"
      ],
      "text/plain": [
       "                                  h.1         h.2         h.3        h.4  \\\n",
       "time                                                                       \n",
       "2021-02-16 00:00:00-05:00  112.975844  111.132306  110.991358  110.98067   \n",
       "\n",
       "                                 h.5  \n",
       "time                                  \n",
       "2021-02-16 00:00:00-05:00  110.97986  "
      ]
     },
     "execution_count": 23,
     "metadata": {},
     "output_type": "execute_result"
    }
   ],
   "source": [
    "#Create 5 day forecast of volatility of BTCUSD\n",
    "forecast_horizon = 5\n",
    "\n",
    "#start forecast\n",
    "forecasts = results.forecast(horizon=forecast_horizon)\n",
    "\n",
    "# Annual the forecast\n",
    "intermediate = np.sqrt(forecasts.variance.dropna() * 252)\n",
    "intermediate.head()"
   ]
  },
  {
   "cell_type": "code",
   "execution_count": 24,
   "metadata": {},
   "outputs": [
    {
     "data": {
      "text/html": [
       "<div>\n",
       "<style scoped>\n",
       "    .dataframe tbody tr th:only-of-type {\n",
       "        vertical-align: middle;\n",
       "    }\n",
       "\n",
       "    .dataframe tbody tr th {\n",
       "        vertical-align: top;\n",
       "    }\n",
       "\n",
       "    .dataframe thead th {\n",
       "        text-align: right;\n",
       "    }\n",
       "</style>\n",
       "<table border=\"1\" class=\"dataframe\">\n",
       "  <thead>\n",
       "    <tr style=\"text-align: right;\">\n",
       "      <th>time</th>\n",
       "      <th>2021-02-16 00:00:00-05:00</th>\n",
       "    </tr>\n",
       "  </thead>\n",
       "  <tbody>\n",
       "    <tr>\n",
       "      <th>h.1</th>\n",
       "      <td>112.975844</td>\n",
       "    </tr>\n",
       "    <tr>\n",
       "      <th>h.2</th>\n",
       "      <td>111.132306</td>\n",
       "    </tr>\n",
       "    <tr>\n",
       "      <th>h.3</th>\n",
       "      <td>110.991358</td>\n",
       "    </tr>\n",
       "    <tr>\n",
       "      <th>h.4</th>\n",
       "      <td>110.980670</td>\n",
       "    </tr>\n",
       "    <tr>\n",
       "      <th>h.5</th>\n",
       "      <td>110.979860</td>\n",
       "    </tr>\n",
       "  </tbody>\n",
       "</table>\n",
       "</div>"
      ],
      "text/plain": [
       "time  2021-02-16 00:00:00-05:00\n",
       "h.1                  112.975844\n",
       "h.2                  111.132306\n",
       "h.3                  110.991358\n",
       "h.4                  110.980670\n",
       "h.5                  110.979860"
      ]
     },
     "execution_count": 24,
     "metadata": {},
     "output_type": "execute_result"
    }
   ],
   "source": [
    "#Transpose forecasts\n",
    "final = intermediate.dropna().T\n",
    "final.head()"
   ]
  },
  {
   "cell_type": "code",
   "execution_count": 25,
   "metadata": {},
   "outputs": [
    {
     "data": {
      "text/plain": [
       "<AxesSubplot:title={'center':'GARCH next 5 days'}>"
      ]
     },
     "execution_count": 25,
     "metadata": {},
     "output_type": "execute_result"
    },
    {
     "data": {
      "image/png": "[encoded data removed]",
      "text/plain": [
       "<Figure size 432x288 with 1 Axes>"
      ]
     },
     "metadata": {
      "needs_background": "light"
     },
     "output_type": "display_data"
    }
   ],
   "source": [
    "#plot the volatiltiy forecast for 5 days\n",
    "final.plot(title='GARCH next 5 days')"
   ]
  },
  {
   "cell_type": "code",
   "execution_count": 26,
   "metadata": {},
   "outputs": [
    {
     "data": {
      "text/html": [
       "<div>\n",
       "<style scoped>\n",
       "    .dataframe tbody tr th:only-of-type {\n",
       "        vertical-align: middle;\n",
       "    }\n",
       "\n",
       "    .dataframe tbody tr th {\n",
       "        vertical-align: top;\n",
       "    }\n",
       "\n",
       "    .dataframe thead th {\n",
       "        text-align: right;\n",
       "    }\n",
       "</style>\n",
       "<table border=\"1\" class=\"dataframe\">\n",
       "  <thead>\n",
       "    <tr style=\"text-align: right;\">\n",
       "      <th></th>\n",
       "      <th>CYRNclose</th>\n",
       "      <th>Return</th>\n",
       "      <th>Lagged_Return</th>\n",
       "    </tr>\n",
       "    <tr>\n",
       "      <th>time</th>\n",
       "      <th></th>\n",
       "      <th></th>\n",
       "      <th></th>\n",
       "    </tr>\n",
       "  </thead>\n",
       "  <tbody>\n",
       "    <tr>\n",
       "      <th>2020-09-25 00:00:00-04:00</th>\n",
       "      <td>1.05</td>\n",
       "      <td>0.77</td>\n",
       "      <td>11.74</td>\n",
       "    </tr>\n",
       "    <tr>\n",
       "      <th>2020-09-28 00:00:00-04:00</th>\n",
       "      <td>1.03</td>\n",
       "      <td>-1.42</td>\n",
       "      <td>0.77</td>\n",
       "    </tr>\n",
       "    <tr>\n",
       "      <th>2020-09-29 00:00:00-04:00</th>\n",
       "      <td>1.04</td>\n",
       "      <td>1.12</td>\n",
       "      <td>-1.42</td>\n",
       "    </tr>\n",
       "    <tr>\n",
       "      <th>2020-09-30 00:00:00-04:00</th>\n",
       "      <td>1.08</td>\n",
       "      <td>3.45</td>\n",
       "      <td>1.12</td>\n",
       "    </tr>\n",
       "    <tr>\n",
       "      <th>2020-10-01 00:00:00-04:00</th>\n",
       "      <td>1.07</td>\n",
       "      <td>-0.82</td>\n",
       "      <td>3.45</td>\n",
       "    </tr>\n",
       "  </tbody>\n",
       "</table>\n",
       "</div>"
      ],
      "text/plain": [
       "                           CYRNclose  Return  Lagged_Return\n",
       "time                                                       \n",
       "2020-09-25 00:00:00-04:00       1.05    0.77          11.74\n",
       "2020-09-28 00:00:00-04:00       1.03   -1.42           0.77\n",
       "2020-09-29 00:00:00-04:00       1.04    1.12          -1.42\n",
       "2020-09-30 00:00:00-04:00       1.08    3.45           1.12\n",
       "2020-10-01 00:00:00-04:00       1.07   -0.82           3.45"
      ]
     },
     "execution_count": 26,
     "metadata": {},
     "output_type": "execute_result"
    }
   ],
   "source": [
    "# Linear regression\n",
    "df_ticker['Return'] = df_ticker.iloc[:, [0]].pct_change() * 100\n",
    "df_ticker['Lagged_Return'] = df_ticker.Return.shift()\n",
    "df_ticker = df_ticker.dropna().round(2)\n",
    "df_ticker.head()"
   ]
  },
  {
   "cell_type": "code",
   "execution_count": 27,
   "metadata": {},
   "outputs": [],
   "source": [
    "# Create a train/test split for the data using 2001-2018 for training and 2019 for testing\n",
    "train = df_ticker[:'2020']\n",
    "test = df_ticker['2021':]"
   ]
  },
  {
   "cell_type": "code",
   "execution_count": 28,
   "metadata": {},
   "outputs": [],
   "source": [
    "# Create train and test sets for dependent and independent variables\n",
    "X_train = train[\"Lagged_Return\"].to_frame()\n",
    "y_train = train[\"Return\"]\n",
    "X_test = test[\"Lagged_Return\"].to_frame()\n",
    "y_test = test[\"Return\"]"
   ]
  },
  {
   "cell_type": "code",
   "execution_count": 29,
   "metadata": {},
   "outputs": [],
   "source": [
    "from sklearn.linear_model import LinearRegression\n",
    "\n",
    "# Create and fit model to the data, make predictions\n",
    "model = LinearRegression()\n",
    "model.fit(X_train, y_train)\n",
    "predictions = model.predict(X_test)"
   ]
  },
  {
   "cell_type": "code",
   "execution_count": 30,
   "metadata": {},
   "outputs": [
    {
     "data": {
      "image/png": "[encoded data removed]",
      "text/plain": [
       "<Figure size 432x288 with 2 Axes>"
      ]
     },
     "metadata": {
      "needs_background": "light"
     },
     "output_type": "display_data"
    }
   ],
   "source": [
    "#put results in df format\n",
    "Results = y_test.to_frame()\n",
    "Results['Predicted Return'] = predictions\n",
    "\n",
    "#20 predictions\n",
    "Results[:20].plot(subplots=True);"
   ]
  },
  {
   "cell_type": "code",
   "execution_count": 31,
   "metadata": {},
   "outputs": [
    {
     "name": "stdout",
     "output_type": "stream",
     "text": [
      "In-sample Root Mean Squared Error (RMSE): 6.97\n"
     ]
    }
   ],
   "source": [
    "from sklearn.metrics import mean_squared_error\n",
    "\n",
    "# Construct a dataframe using just the \"y\" training data:\n",
    "in_sample_results = y_train.to_frame()\n",
    "\n",
    "# Add a column of \"in-sample\" predictions to that dataframe:  \n",
    "in_sample_results[\"In-sample Predictions\"] = model.predict(X_train)\n",
    "\n",
    "# Calculate in-sample mean_squared_error (for comparison to out-of-sample)\n",
    "in_sample_mse = mean_squared_error(\n",
    "    in_sample_results[\"Return\"],\n",
    "    in_sample_results[\"In-sample Predictions\"]\n",
    ")\n",
    "\n",
    "# Calculate in-sample root mean_squared_error (for comparison to out-of-sample)\n",
    "in_sample_rmse = np.sqrt(in_sample_mse)\n",
    "print(f\"In-sample Root Mean Squared Error (RMSE): {in_sample_rmse:0.2f}\")"
   ]
  },
  {
   "cell_type": "code",
   "execution_count": 32,
   "metadata": {},
   "outputs": [
    {
     "name": "stdout",
     "output_type": "stream",
     "text": [
      "Out-of-Sample Root Mean Squared Error (RMSE): 7.08\n"
     ]
    }
   ],
   "source": [
    "# Calculate the mean_squared_error (MSE) on actual versus predicted test \"y\" \n",
    "# (Hint: use the dataframe above)\n",
    "mse = mean_squared_error(\n",
    "    Results[\"Return\"],\n",
    "    Results[\"Predicted Return\"]\n",
    ")\n",
    "\n",
    "# Using that mean-squared-error, calculate the root-mean-squared error (RMSE):\n",
    "out_of_sample_rmse = np.sqrt(mse)\n",
    "print(f\"Out-of-Sample Root Mean Squared Error (RMSE): {out_of_sample_rmse:0.2f}\")"
   ]
  },
  {
   "cell_type": "code",
   "execution_count": null,
   "metadata": {},
   "outputs": [],
   "source": []
  }
 ],
 "metadata": {
  "file_extension": ".py",
  "kernelspec": {
   "display_name": "Python [conda env:mlenv]",
   "language": "python",
   "name": "conda-env-mlenv-py"
  },
  "language_info": {
   "codemirror_mode": {
    "name": "ipython",
    "version": 3
   },
   "file_extension": ".py",
   "mimetype": "text/x-python",
   "name": "python",
   "nbconvert_exporter": "python",
   "pygments_lexer": "ipython3",
   "version": "3.7.7"
  },
  "mimetype": "text/x-python",
  "name": "python",
  "npconvert_exporter": "python",
  "pygments_lexer": "ipython3",
  "version": 3
 },
 "nbformat": 4,
 "nbformat_minor": 4
}
